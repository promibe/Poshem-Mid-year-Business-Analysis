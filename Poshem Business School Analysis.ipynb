{
 "cells": [
  {
   "cell_type": "markdown",
   "id": "a437ec1c",
   "metadata": {},
   "source": [
    "## <center>Poshem Business School</center>\n",
    "### Mid Season Review July 2024"
   ]
  },
  {
   "cell_type": "markdown",
   "id": "29adc274",
   "metadata": {},
   "source": [
    "### Project Overview:\n",
    "\n",
    "Poshem Business School's CEO, Simon E. Akhamie has tasked the data analytics team with\n",
    "conducting an <b>Exploratory data analysis (EDA)</b> on the company's sales dataset. \n",
    "<br>The objective is to derive meaningful insights and patterns that can inform strategic decisions. The dataset\n",
    "comprises information on orders, customers, products, and shipping details."
   ]
  },
  {
   "cell_type": "markdown",
   "id": "00a82401",
   "metadata": {},
   "source": [
    "### Exploratory Data Analysis (EDA) Questions:\n",
    "#### Overview:\n",
    "\n",
    "What is the timeframe of the dataset? (Start and end date)\n",
    "\n",
    "● How many rows and columns are there in the dataset?\n",
    "\n",
    "● Are there missing values? If yes list them and fix them\n",
    "\n",
    "● What are the data types of each column?\n",
    "\n",
    "● Are there duplicates in the dataset? If yes list them and fix them\n",
    "\n",
    "● Give a quick statistical description of numerical contents in the dataset.\n",
    "\n"
   ]
  },
  {
   "cell_type": "markdown",
   "id": "d583fb96",
   "metadata": {},
   "source": [
    "#### Importing Libraries"
   ]
  },
  {
   "cell_type": "code",
   "execution_count": 1,
   "id": "60029780",
   "metadata": {},
   "outputs": [
    {
     "name": "stderr",
     "output_type": "stream",
     "text": [
      "C:\\Users\\hp\\anaconda3\\Lib\\site-packages\\pandas\\core\\arrays\\masked.py:60: UserWarning: Pandas requires version '1.3.6' or newer of 'bottleneck' (version '1.3.5' currently installed).\n",
      "  from pandas.core import (\n"
     ]
    }
   ],
   "source": [
    "import pandas as pd\n",
    "import numpy as np\n",
    "import matplotlib.pyplot as plt\n",
    "import seaborn as sns\n",
    "\n",
    "import warnings\n",
    "warnings.filterwarnings(\"ignore\")"
   ]
  },
  {
   "cell_type": "markdown",
   "id": "865b251e",
   "metadata": {},
   "source": [
    "#### Loading dataset"
   ]
  },
  {
   "cell_type": "code",
   "execution_count": 2,
   "id": "85c947d1",
   "metadata": {},
   "outputs": [
    {
     "data": {
      "text/html": [
       "<div>\n",
       "<style scoped>\n",
       "    .dataframe tbody tr th:only-of-type {\n",
       "        vertical-align: middle;\n",
       "    }\n",
       "\n",
       "    .dataframe tbody tr th {\n",
       "        vertical-align: top;\n",
       "    }\n",
       "\n",
       "    .dataframe thead th {\n",
       "        text-align: right;\n",
       "    }\n",
       "</style>\n",
       "<table border=\"1\" class=\"dataframe\">\n",
       "  <thead>\n",
       "    <tr style=\"text-align: right;\">\n",
       "      <th></th>\n",
       "      <th>Order ID</th>\n",
       "      <th>Order Date</th>\n",
       "      <th>Ship Date</th>\n",
       "      <th>Ship Mode</th>\n",
       "      <th>Customer ID</th>\n",
       "      <th>Customer Name</th>\n",
       "      <th>Segment</th>\n",
       "      <th>Country</th>\n",
       "      <th>City</th>\n",
       "      <th>State</th>\n",
       "      <th>Postal Code</th>\n",
       "      <th>Region</th>\n",
       "      <th>Product ID</th>\n",
       "      <th>Category</th>\n",
       "      <th>Sub-Category</th>\n",
       "      <th>Product Name</th>\n",
       "      <th>Sales</th>\n",
       "    </tr>\n",
       "    <tr>\n",
       "      <th>Row ID</th>\n",
       "      <th></th>\n",
       "      <th></th>\n",
       "      <th></th>\n",
       "      <th></th>\n",
       "      <th></th>\n",
       "      <th></th>\n",
       "      <th></th>\n",
       "      <th></th>\n",
       "      <th></th>\n",
       "      <th></th>\n",
       "      <th></th>\n",
       "      <th></th>\n",
       "      <th></th>\n",
       "      <th></th>\n",
       "      <th></th>\n",
       "      <th></th>\n",
       "      <th></th>\n",
       "    </tr>\n",
       "  </thead>\n",
       "  <tbody>\n",
       "    <tr>\n",
       "      <th>1</th>\n",
       "      <td>CA-2017-152156</td>\n",
       "      <td>08/11/2017</td>\n",
       "      <td>11/11/2017</td>\n",
       "      <td>Second Class</td>\n",
       "      <td>CG-12520</td>\n",
       "      <td>Claire Gute</td>\n",
       "      <td>Consumer</td>\n",
       "      <td>United States</td>\n",
       "      <td>Henderson</td>\n",
       "      <td>Kentucky</td>\n",
       "      <td>42420.0</td>\n",
       "      <td>South</td>\n",
       "      <td>FUR-BO-10001798</td>\n",
       "      <td>Furniture</td>\n",
       "      <td>Bookcases</td>\n",
       "      <td>Bush Somerset Collection Bookcase</td>\n",
       "      <td>261.9600</td>\n",
       "    </tr>\n",
       "    <tr>\n",
       "      <th>2</th>\n",
       "      <td>CA-2017-152156</td>\n",
       "      <td>08/11/2017</td>\n",
       "      <td>11/11/2017</td>\n",
       "      <td>Second Class</td>\n",
       "      <td>CG-12520</td>\n",
       "      <td>Claire Gute</td>\n",
       "      <td>Consumer</td>\n",
       "      <td>United States</td>\n",
       "      <td>Henderson</td>\n",
       "      <td>Kentucky</td>\n",
       "      <td>42420.0</td>\n",
       "      <td>South</td>\n",
       "      <td>FUR-CH-10000454</td>\n",
       "      <td>Furniture</td>\n",
       "      <td>Chairs</td>\n",
       "      <td>Hon Deluxe Fabric Upholstered Stacking Chairs,...</td>\n",
       "      <td>731.9400</td>\n",
       "    </tr>\n",
       "    <tr>\n",
       "      <th>3</th>\n",
       "      <td>CA-2017-138688</td>\n",
       "      <td>12/06/2017</td>\n",
       "      <td>16/06/2017</td>\n",
       "      <td>Second Class</td>\n",
       "      <td>DV-13045</td>\n",
       "      <td>Darrin Van Huff</td>\n",
       "      <td>Corporate</td>\n",
       "      <td>United States</td>\n",
       "      <td>Los Angeles</td>\n",
       "      <td>California</td>\n",
       "      <td>90036.0</td>\n",
       "      <td>West</td>\n",
       "      <td>OFF-LA-10000240</td>\n",
       "      <td>Office Supplies</td>\n",
       "      <td>Labels</td>\n",
       "      <td>Self-Adhesive Address Labels for Typewriters b...</td>\n",
       "      <td>14.6200</td>\n",
       "    </tr>\n",
       "    <tr>\n",
       "      <th>4</th>\n",
       "      <td>US-2016-108966</td>\n",
       "      <td>11/10/2016</td>\n",
       "      <td>18/10/2016</td>\n",
       "      <td>Standard Class</td>\n",
       "      <td>SO-20335</td>\n",
       "      <td>Sean O'Donnell</td>\n",
       "      <td>Consumer</td>\n",
       "      <td>United States</td>\n",
       "      <td>Fort Lauderdale</td>\n",
       "      <td>Florida</td>\n",
       "      <td>33311.0</td>\n",
       "      <td>South</td>\n",
       "      <td>FUR-TA-10000577</td>\n",
       "      <td>Furniture</td>\n",
       "      <td>Tables</td>\n",
       "      <td>Bretford CR4500 Series Slim Rectangular Table</td>\n",
       "      <td>957.5775</td>\n",
       "    </tr>\n",
       "    <tr>\n",
       "      <th>5</th>\n",
       "      <td>US-2016-108966</td>\n",
       "      <td>11/10/2016</td>\n",
       "      <td>18/10/2016</td>\n",
       "      <td>Standard Class</td>\n",
       "      <td>SO-20335</td>\n",
       "      <td>Sean O'Donnell</td>\n",
       "      <td>Consumer</td>\n",
       "      <td>United States</td>\n",
       "      <td>Fort Lauderdale</td>\n",
       "      <td>Florida</td>\n",
       "      <td>33311.0</td>\n",
       "      <td>South</td>\n",
       "      <td>OFF-ST-10000760</td>\n",
       "      <td>Office Supplies</td>\n",
       "      <td>Storage</td>\n",
       "      <td>Eldon Fold 'N Roll Cart System</td>\n",
       "      <td>22.3680</td>\n",
       "    </tr>\n",
       "    <tr>\n",
       "      <th>...</th>\n",
       "      <td>...</td>\n",
       "      <td>...</td>\n",
       "      <td>...</td>\n",
       "      <td>...</td>\n",
       "      <td>...</td>\n",
       "      <td>...</td>\n",
       "      <td>...</td>\n",
       "      <td>...</td>\n",
       "      <td>...</td>\n",
       "      <td>...</td>\n",
       "      <td>...</td>\n",
       "      <td>...</td>\n",
       "      <td>...</td>\n",
       "      <td>...</td>\n",
       "      <td>...</td>\n",
       "      <td>...</td>\n",
       "      <td>...</td>\n",
       "    </tr>\n",
       "    <tr>\n",
       "      <th>96</th>\n",
       "      <td>US-2018-109484</td>\n",
       "      <td>06/11/2018</td>\n",
       "      <td>12/11/2018</td>\n",
       "      <td>Standard Class</td>\n",
       "      <td>RB-19705</td>\n",
       "      <td>Roger Barcio</td>\n",
       "      <td>Home Office</td>\n",
       "      <td>United States</td>\n",
       "      <td>Portland</td>\n",
       "      <td>Oregon</td>\n",
       "      <td>97206.0</td>\n",
       "      <td>West</td>\n",
       "      <td>OFF-BI-10004738</td>\n",
       "      <td>Office Supplies</td>\n",
       "      <td>Binders</td>\n",
       "      <td>Flexible Leather- Look Classic Collection Ring...</td>\n",
       "      <td>5.6820</td>\n",
       "    </tr>\n",
       "    <tr>\n",
       "      <th>97</th>\n",
       "      <td>CA-2018-161018</td>\n",
       "      <td>09/11/2018</td>\n",
       "      <td>11/11/2018</td>\n",
       "      <td>Second Class</td>\n",
       "      <td>PN-18775</td>\n",
       "      <td>Parhena Norris</td>\n",
       "      <td>Home Office</td>\n",
       "      <td>United States</td>\n",
       "      <td>New York City</td>\n",
       "      <td>New York</td>\n",
       "      <td>10009.0</td>\n",
       "      <td>East</td>\n",
       "      <td>FUR-FU-10000629</td>\n",
       "      <td>Furniture</td>\n",
       "      <td>Furnishings</td>\n",
       "      <td>9-3/4 Diameter Round Wall Clock</td>\n",
       "      <td>96.5300</td>\n",
       "    </tr>\n",
       "    <tr>\n",
       "      <th>98</th>\n",
       "      <td>CA-2018-157833</td>\n",
       "      <td>17/06/2018</td>\n",
       "      <td>20/06/2018</td>\n",
       "      <td>First Class</td>\n",
       "      <td>KD-16345</td>\n",
       "      <td>Katherine Ducich</td>\n",
       "      <td>Consumer</td>\n",
       "      <td>United States</td>\n",
       "      <td>San Francisco</td>\n",
       "      <td>California</td>\n",
       "      <td>94122.0</td>\n",
       "      <td>West</td>\n",
       "      <td>OFF-BI-10001721</td>\n",
       "      <td>Office Supplies</td>\n",
       "      <td>Binders</td>\n",
       "      <td>Trimflex Flexible Post Binders</td>\n",
       "      <td>51.3120</td>\n",
       "    </tr>\n",
       "    <tr>\n",
       "      <th>99</th>\n",
       "      <td>CA-2017-149223</td>\n",
       "      <td>06/09/2017</td>\n",
       "      <td>11/09/2017</td>\n",
       "      <td>Standard Class</td>\n",
       "      <td>ER-13855</td>\n",
       "      <td>Elpida Rittenbach</td>\n",
       "      <td>Corporate</td>\n",
       "      <td>United States</td>\n",
       "      <td>Saint Paul</td>\n",
       "      <td>Minnesota</td>\n",
       "      <td>55106.0</td>\n",
       "      <td>Central</td>\n",
       "      <td>OFF-AP-10000358</td>\n",
       "      <td>Office Supplies</td>\n",
       "      <td>Appliances</td>\n",
       "      <td>Fellowes Basic Home/Office Series Surge Protec...</td>\n",
       "      <td>77.8800</td>\n",
       "    </tr>\n",
       "    <tr>\n",
       "      <th>100</th>\n",
       "      <td>CA-2017-158568</td>\n",
       "      <td>29/08/2017</td>\n",
       "      <td>02/09/2017</td>\n",
       "      <td>Standard Class</td>\n",
       "      <td>RB-19465</td>\n",
       "      <td>Rick Bensley</td>\n",
       "      <td>Home Office</td>\n",
       "      <td>United States</td>\n",
       "      <td>Chicago</td>\n",
       "      <td>Illinois</td>\n",
       "      <td>60610.0</td>\n",
       "      <td>Central</td>\n",
       "      <td>OFF-PA-10003256</td>\n",
       "      <td>Office Supplies</td>\n",
       "      <td>Paper</td>\n",
       "      <td>Avery Personal Creations Heavyweight Cards</td>\n",
       "      <td>64.6240</td>\n",
       "    </tr>\n",
       "  </tbody>\n",
       "</table>\n",
       "<p>100 rows × 17 columns</p>\n",
       "</div>"
      ],
      "text/plain": [
       "              Order ID  Order Date   Ship Date       Ship Mode Customer ID  \\\n",
       "Row ID                                                                       \n",
       "1       CA-2017-152156  08/11/2017  11/11/2017    Second Class    CG-12520   \n",
       "2       CA-2017-152156  08/11/2017  11/11/2017    Second Class    CG-12520   \n",
       "3       CA-2017-138688  12/06/2017  16/06/2017    Second Class    DV-13045   \n",
       "4       US-2016-108966  11/10/2016  18/10/2016  Standard Class    SO-20335   \n",
       "5       US-2016-108966  11/10/2016  18/10/2016  Standard Class    SO-20335   \n",
       "...                ...         ...         ...             ...         ...   \n",
       "96      US-2018-109484  06/11/2018  12/11/2018  Standard Class    RB-19705   \n",
       "97      CA-2018-161018  09/11/2018  11/11/2018    Second Class    PN-18775   \n",
       "98      CA-2018-157833  17/06/2018  20/06/2018     First Class    KD-16345   \n",
       "99      CA-2017-149223  06/09/2017  11/09/2017  Standard Class    ER-13855   \n",
       "100     CA-2017-158568  29/08/2017  02/09/2017  Standard Class    RB-19465   \n",
       "\n",
       "            Customer Name      Segment        Country             City  \\\n",
       "Row ID                                                                   \n",
       "1             Claire Gute     Consumer  United States        Henderson   \n",
       "2             Claire Gute     Consumer  United States        Henderson   \n",
       "3         Darrin Van Huff    Corporate  United States      Los Angeles   \n",
       "4          Sean O'Donnell     Consumer  United States  Fort Lauderdale   \n",
       "5          Sean O'Donnell     Consumer  United States  Fort Lauderdale   \n",
       "...                   ...          ...            ...              ...   \n",
       "96           Roger Barcio  Home Office  United States         Portland   \n",
       "97         Parhena Norris  Home Office  United States    New York City   \n",
       "98       Katherine Ducich     Consumer  United States    San Francisco   \n",
       "99      Elpida Rittenbach    Corporate  United States       Saint Paul   \n",
       "100          Rick Bensley  Home Office  United States          Chicago   \n",
       "\n",
       "             State  Postal Code   Region       Product ID         Category  \\\n",
       "Row ID                                                                       \n",
       "1         Kentucky      42420.0    South  FUR-BO-10001798        Furniture   \n",
       "2         Kentucky      42420.0    South  FUR-CH-10000454        Furniture   \n",
       "3       California      90036.0     West  OFF-LA-10000240  Office Supplies   \n",
       "4          Florida      33311.0    South  FUR-TA-10000577        Furniture   \n",
       "5          Florida      33311.0    South  OFF-ST-10000760  Office Supplies   \n",
       "...            ...          ...      ...              ...              ...   \n",
       "96          Oregon      97206.0     West  OFF-BI-10004738  Office Supplies   \n",
       "97        New York      10009.0     East  FUR-FU-10000629        Furniture   \n",
       "98      California      94122.0     West  OFF-BI-10001721  Office Supplies   \n",
       "99       Minnesota      55106.0  Central  OFF-AP-10000358  Office Supplies   \n",
       "100       Illinois      60610.0  Central  OFF-PA-10003256  Office Supplies   \n",
       "\n",
       "       Sub-Category                                       Product Name  \\\n",
       "Row ID                                                                   \n",
       "1         Bookcases                  Bush Somerset Collection Bookcase   \n",
       "2            Chairs  Hon Deluxe Fabric Upholstered Stacking Chairs,...   \n",
       "3            Labels  Self-Adhesive Address Labels for Typewriters b...   \n",
       "4            Tables      Bretford CR4500 Series Slim Rectangular Table   \n",
       "5           Storage                     Eldon Fold 'N Roll Cart System   \n",
       "...             ...                                                ...   \n",
       "96          Binders  Flexible Leather- Look Classic Collection Ring...   \n",
       "97      Furnishings                    9-3/4 Diameter Round Wall Clock   \n",
       "98          Binders                     Trimflex Flexible Post Binders   \n",
       "99       Appliances  Fellowes Basic Home/Office Series Surge Protec...   \n",
       "100           Paper         Avery Personal Creations Heavyweight Cards   \n",
       "\n",
       "           Sales  \n",
       "Row ID            \n",
       "1       261.9600  \n",
       "2       731.9400  \n",
       "3        14.6200  \n",
       "4       957.5775  \n",
       "5        22.3680  \n",
       "...          ...  \n",
       "96        5.6820  \n",
       "97       96.5300  \n",
       "98       51.3120  \n",
       "99       77.8800  \n",
       "100      64.6240  \n",
       "\n",
       "[100 rows x 17 columns]"
      ]
     },
     "execution_count": 2,
     "metadata": {},
     "output_type": "execute_result"
    }
   ],
   "source": [
    "df = pd.read_csv('poshem_business_school_sales.csv', index_col=['Row ID'], parse_dates=['Order Date','Ship Date'])\n",
    "df.head(100)"
   ]
  },
  {
   "cell_type": "code",
   "execution_count": 3,
   "id": "28ce3696",
   "metadata": {
    "scrolled": true
   },
   "outputs": [
    {
     "data": {
      "text/plain": [
       "Index(['Order ID', 'Order Date', 'Ship Date', 'Ship Mode', 'Customer ID',\n",
       "       'Customer Name', 'Segment', 'Country', 'City', 'State', 'Postal Code',\n",
       "       'Region', 'Product ID', 'Category', 'Sub-Category', 'Product Name',\n",
       "       'Sales'],\n",
       "      dtype='object')"
      ]
     },
     "execution_count": 3,
     "metadata": {},
     "output_type": "execute_result"
    }
   ],
   "source": [
    "df.columns"
   ]
  },
  {
   "cell_type": "code",
   "execution_count": 4,
   "id": "301dc264",
   "metadata": {},
   "outputs": [
    {
     "data": {
      "text/plain": [
       "array(['Second Class', 'Standard Class', 'First Class', 'Same Day'],\n",
       "      dtype=object)"
      ]
     },
     "execution_count": 4,
     "metadata": {},
     "output_type": "execute_result"
    }
   ],
   "source": [
    "df['Ship Mode'].unique()"
   ]
  },
  {
   "cell_type": "code",
   "execution_count": 5,
   "id": "19b37959",
   "metadata": {},
   "outputs": [
    {
     "data": {
      "text/plain": [
       "array(['Consumer', 'Corporate', 'Home Office'], dtype=object)"
      ]
     },
     "execution_count": 5,
     "metadata": {},
     "output_type": "execute_result"
    }
   ],
   "source": [
    "df['Segment'].unique()"
   ]
  },
  {
   "cell_type": "markdown",
   "id": "14f73de2",
   "metadata": {},
   "source": [
    "#### Understandind the dataset columns\n",
    "\n",
    "<b>Row ID:</b> This identifies a particular row in the dataset\n",
    "\n",
    "<b>Order ID:</b> This identifies a particular order in the dataset\n",
    "\n",
    "<b>Order Date:</b> This identifies the paricular date the order is placed\n",
    "\n",
    "<b>Ship Date:</b> The Date when the oder is shipped \n",
    "\n",
    "<b>Ship Mode:</b> The mode of the ship whether 'Second Class', 'Standard Class', 'First Class' or 'Same Day'\n",
    "\n",
    "<b>Customer ID:</b> This shows the unique idenity of a particular customer\n",
    "\n",
    "<b>Customer Name:</b> This idenity the of a particular customer\n",
    "\n",
    "<b>Segment:</b> This shows the segment or categories in which the order is being placed either 'Consumer', 'Corporate', 'Home Office'\n",
    "\n",
    "<b>Country:</b> The Country of residence from which the order is placed from\n",
    "\n",
    "<b>City:</b> The City of residence from which the order is placed from\n",
    "\n",
    "<b>State:</b> The State of residence from which the order is placed from\n",
    "\n",
    "<b>Postal Code:</b> The Postal Code of the residence from which the order is placed from\n",
    "\n",
    "<b>Region:</b> The Region from which the order is placed from \n",
    "\n",
    "<b>Product ID:</b> This shows the unique idenity of a particular Product\n",
    "\n",
    "<b>Category:</b> This shows the Category a particular Product\n",
    "\n",
    "<b>Sub-Category:</b> This shows the Sub-Category a particular Product\n",
    "\n",
    "<b>Product Name:</b> This shows the Product Name\n",
    "\n",
    "<b>Sales:</b> The Sale amount of the product"
   ]
  },
  {
   "cell_type": "code",
   "execution_count": 6,
   "id": "3e6f90f3",
   "metadata": {},
   "outputs": [
    {
     "name": "stdout",
     "output_type": "stream",
     "text": [
      "<class 'pandas.core.frame.DataFrame'>\n",
      "Index: 9800 entries, 1 to 9800\n",
      "Data columns (total 17 columns):\n",
      " #   Column         Non-Null Count  Dtype  \n",
      "---  ------         --------------  -----  \n",
      " 0   Order ID       9800 non-null   object \n",
      " 1   Order Date     9800 non-null   object \n",
      " 2   Ship Date      9800 non-null   object \n",
      " 3   Ship Mode      9800 non-null   object \n",
      " 4   Customer ID    9800 non-null   object \n",
      " 5   Customer Name  9800 non-null   object \n",
      " 6   Segment        9800 non-null   object \n",
      " 7   Country        9800 non-null   object \n",
      " 8   City           9800 non-null   object \n",
      " 9   State          9800 non-null   object \n",
      " 10  Postal Code    9789 non-null   float64\n",
      " 11  Region         9800 non-null   object \n",
      " 12  Product ID     9800 non-null   object \n",
      " 13  Category       9800 non-null   object \n",
      " 14  Sub-Category   9800 non-null   object \n",
      " 15  Product Name   9800 non-null   object \n",
      " 16  Sales          9800 non-null   float64\n",
      "dtypes: float64(2), object(15)\n",
      "memory usage: 1.3+ MB\n"
     ]
    }
   ],
   "source": [
    "#checking the general information of the dataset\n",
    "df.info()"
   ]
  },
  {
   "cell_type": "markdown",
   "id": "b2fa959b",
   "metadata": {},
   "source": [
    "● What is the timeframe of the dataset? (Start and end date)\n"
   ]
  },
  {
   "cell_type": "code",
   "execution_count": 7,
   "id": "25018372",
   "metadata": {},
   "outputs": [],
   "source": [
    "#convering he Order date column to datetime so we can get the min date and the max date\n",
    "df['Order Date'] = pd.to_datetime(df['Order Date'], dayfirst=True)\n",
    "df['Ship Date'] = pd.to_datetime(df['Ship Date'], dayfirst=True)"
   ]
  },
  {
   "cell_type": "code",
   "execution_count": 8,
   "id": "a479fad3",
   "metadata": {},
   "outputs": [
    {
     "data": {
      "text/plain": [
       "Timestamp('2015-01-03 00:00:00')"
      ]
     },
     "execution_count": 8,
     "metadata": {},
     "output_type": "execute_result"
    }
   ],
   "source": [
    "df['Order Date'].min() # Start Date"
   ]
  },
  {
   "cell_type": "code",
   "execution_count": 9,
   "id": "53b2df9d",
   "metadata": {},
   "outputs": [
    {
     "data": {
      "text/plain": [
       "Timestamp('2018-12-30 00:00:00')"
      ]
     },
     "execution_count": 9,
     "metadata": {},
     "output_type": "execute_result"
    }
   ],
   "source": [
    "df['Order Date'].max() # End Date"
   ]
  },
  {
   "cell_type": "markdown",
   "id": "37a179d5",
   "metadata": {},
   "source": [
    "<b>Answer:</b> The time frame of the dataset?  <b>Start date is:</b> 3rd January 2015  -- <b>End date is:</b>    30th December 2018"
   ]
  },
  {
   "cell_type": "code",
   "execution_count": 10,
   "id": "67ecacb3",
   "metadata": {},
   "outputs": [
    {
     "name": "stdout",
     "output_type": "stream",
     "text": [
      "<class 'pandas.core.frame.DataFrame'>\n",
      "Index: 9800 entries, 1 to 9800\n",
      "Data columns (total 17 columns):\n",
      " #   Column         Non-Null Count  Dtype         \n",
      "---  ------         --------------  -----         \n",
      " 0   Order ID       9800 non-null   object        \n",
      " 1   Order Date     9800 non-null   datetime64[ns]\n",
      " 2   Ship Date      9800 non-null   datetime64[ns]\n",
      " 3   Ship Mode      9800 non-null   object        \n",
      " 4   Customer ID    9800 non-null   object        \n",
      " 5   Customer Name  9800 non-null   object        \n",
      " 6   Segment        9800 non-null   object        \n",
      " 7   Country        9800 non-null   object        \n",
      " 8   City           9800 non-null   object        \n",
      " 9   State          9800 non-null   object        \n",
      " 10  Postal Code    9789 non-null   float64       \n",
      " 11  Region         9800 non-null   object        \n",
      " 12  Product ID     9800 non-null   object        \n",
      " 13  Category       9800 non-null   object        \n",
      " 14  Sub-Category   9800 non-null   object        \n",
      " 15  Product Name   9800 non-null   object        \n",
      " 16  Sales          9800 non-null   float64       \n",
      "dtypes: datetime64[ns](2), float64(2), object(13)\n",
      "memory usage: 1.3+ MB\n"
     ]
    }
   ],
   "source": [
    "df.info()"
   ]
  },
  {
   "cell_type": "markdown",
   "id": "3c042348",
   "metadata": {},
   "source": [
    "● How many rows and columns are there in the dataset?"
   ]
  },
  {
   "cell_type": "code",
   "execution_count": 11,
   "id": "7a5c5835",
   "metadata": {},
   "outputs": [
    {
     "data": {
      "text/plain": [
       "(9800, 17)"
      ]
     },
     "execution_count": 11,
     "metadata": {},
     "output_type": "execute_result"
    }
   ],
   "source": [
    "df.shape "
   ]
  },
  {
   "cell_type": "markdown",
   "id": "ed7f042e",
   "metadata": {},
   "source": [
    "<b>Answer:</b> 9800 rows  and 17 columns\n"
   ]
  },
  {
   "cell_type": "markdown",
   "id": "43c3f32e",
   "metadata": {},
   "source": [
    "● Are there missing values? If yes list them and fix them"
   ]
  },
  {
   "cell_type": "code",
   "execution_count": 12,
   "id": "44379990",
   "metadata": {},
   "outputs": [
    {
     "data": {
      "text/html": [
       "<div>\n",
       "<style scoped>\n",
       "    .dataframe tbody tr th:only-of-type {\n",
       "        vertical-align: middle;\n",
       "    }\n",
       "\n",
       "    .dataframe tbody tr th {\n",
       "        vertical-align: top;\n",
       "    }\n",
       "\n",
       "    .dataframe thead th {\n",
       "        text-align: right;\n",
       "    }\n",
       "</style>\n",
       "<table border=\"1\" class=\"dataframe\">\n",
       "  <thead>\n",
       "    <tr style=\"text-align: right;\">\n",
       "      <th></th>\n",
       "      <th>Order ID</th>\n",
       "      <th>Order Date</th>\n",
       "      <th>Ship Date</th>\n",
       "      <th>Ship Mode</th>\n",
       "      <th>Customer ID</th>\n",
       "      <th>Customer Name</th>\n",
       "      <th>Segment</th>\n",
       "      <th>Country</th>\n",
       "      <th>City</th>\n",
       "      <th>State</th>\n",
       "      <th>Postal Code</th>\n",
       "      <th>Region</th>\n",
       "      <th>Product ID</th>\n",
       "      <th>Category</th>\n",
       "      <th>Sub-Category</th>\n",
       "      <th>Product Name</th>\n",
       "      <th>Sales</th>\n",
       "    </tr>\n",
       "    <tr>\n",
       "      <th>Row ID</th>\n",
       "      <th></th>\n",
       "      <th></th>\n",
       "      <th></th>\n",
       "      <th></th>\n",
       "      <th></th>\n",
       "      <th></th>\n",
       "      <th></th>\n",
       "      <th></th>\n",
       "      <th></th>\n",
       "      <th></th>\n",
       "      <th></th>\n",
       "      <th></th>\n",
       "      <th></th>\n",
       "      <th></th>\n",
       "      <th></th>\n",
       "      <th></th>\n",
       "      <th></th>\n",
       "    </tr>\n",
       "  </thead>\n",
       "  <tbody>\n",
       "    <tr>\n",
       "      <th>1</th>\n",
       "      <td>False</td>\n",
       "      <td>False</td>\n",
       "      <td>False</td>\n",
       "      <td>False</td>\n",
       "      <td>False</td>\n",
       "      <td>False</td>\n",
       "      <td>False</td>\n",
       "      <td>False</td>\n",
       "      <td>False</td>\n",
       "      <td>False</td>\n",
       "      <td>False</td>\n",
       "      <td>False</td>\n",
       "      <td>False</td>\n",
       "      <td>False</td>\n",
       "      <td>False</td>\n",
       "      <td>False</td>\n",
       "      <td>False</td>\n",
       "    </tr>\n",
       "    <tr>\n",
       "      <th>2</th>\n",
       "      <td>False</td>\n",
       "      <td>False</td>\n",
       "      <td>False</td>\n",
       "      <td>False</td>\n",
       "      <td>False</td>\n",
       "      <td>False</td>\n",
       "      <td>False</td>\n",
       "      <td>False</td>\n",
       "      <td>False</td>\n",
       "      <td>False</td>\n",
       "      <td>False</td>\n",
       "      <td>False</td>\n",
       "      <td>False</td>\n",
       "      <td>False</td>\n",
       "      <td>False</td>\n",
       "      <td>False</td>\n",
       "      <td>False</td>\n",
       "    </tr>\n",
       "    <tr>\n",
       "      <th>3</th>\n",
       "      <td>False</td>\n",
       "      <td>False</td>\n",
       "      <td>False</td>\n",
       "      <td>False</td>\n",
       "      <td>False</td>\n",
       "      <td>False</td>\n",
       "      <td>False</td>\n",
       "      <td>False</td>\n",
       "      <td>False</td>\n",
       "      <td>False</td>\n",
       "      <td>False</td>\n",
       "      <td>False</td>\n",
       "      <td>False</td>\n",
       "      <td>False</td>\n",
       "      <td>False</td>\n",
       "      <td>False</td>\n",
       "      <td>False</td>\n",
       "    </tr>\n",
       "    <tr>\n",
       "      <th>4</th>\n",
       "      <td>False</td>\n",
       "      <td>False</td>\n",
       "      <td>False</td>\n",
       "      <td>False</td>\n",
       "      <td>False</td>\n",
       "      <td>False</td>\n",
       "      <td>False</td>\n",
       "      <td>False</td>\n",
       "      <td>False</td>\n",
       "      <td>False</td>\n",
       "      <td>False</td>\n",
       "      <td>False</td>\n",
       "      <td>False</td>\n",
       "      <td>False</td>\n",
       "      <td>False</td>\n",
       "      <td>False</td>\n",
       "      <td>False</td>\n",
       "    </tr>\n",
       "    <tr>\n",
       "      <th>5</th>\n",
       "      <td>False</td>\n",
       "      <td>False</td>\n",
       "      <td>False</td>\n",
       "      <td>False</td>\n",
       "      <td>False</td>\n",
       "      <td>False</td>\n",
       "      <td>False</td>\n",
       "      <td>False</td>\n",
       "      <td>False</td>\n",
       "      <td>False</td>\n",
       "      <td>False</td>\n",
       "      <td>False</td>\n",
       "      <td>False</td>\n",
       "      <td>False</td>\n",
       "      <td>False</td>\n",
       "      <td>False</td>\n",
       "      <td>False</td>\n",
       "    </tr>\n",
       "    <tr>\n",
       "      <th>...</th>\n",
       "      <td>...</td>\n",
       "      <td>...</td>\n",
       "      <td>...</td>\n",
       "      <td>...</td>\n",
       "      <td>...</td>\n",
       "      <td>...</td>\n",
       "      <td>...</td>\n",
       "      <td>...</td>\n",
       "      <td>...</td>\n",
       "      <td>...</td>\n",
       "      <td>...</td>\n",
       "      <td>...</td>\n",
       "      <td>...</td>\n",
       "      <td>...</td>\n",
       "      <td>...</td>\n",
       "      <td>...</td>\n",
       "      <td>...</td>\n",
       "    </tr>\n",
       "    <tr>\n",
       "      <th>9796</th>\n",
       "      <td>False</td>\n",
       "      <td>False</td>\n",
       "      <td>False</td>\n",
       "      <td>False</td>\n",
       "      <td>False</td>\n",
       "      <td>False</td>\n",
       "      <td>False</td>\n",
       "      <td>False</td>\n",
       "      <td>False</td>\n",
       "      <td>False</td>\n",
       "      <td>False</td>\n",
       "      <td>False</td>\n",
       "      <td>False</td>\n",
       "      <td>False</td>\n",
       "      <td>False</td>\n",
       "      <td>False</td>\n",
       "      <td>False</td>\n",
       "    </tr>\n",
       "    <tr>\n",
       "      <th>9797</th>\n",
       "      <td>False</td>\n",
       "      <td>False</td>\n",
       "      <td>False</td>\n",
       "      <td>False</td>\n",
       "      <td>False</td>\n",
       "      <td>False</td>\n",
       "      <td>False</td>\n",
       "      <td>False</td>\n",
       "      <td>False</td>\n",
       "      <td>False</td>\n",
       "      <td>False</td>\n",
       "      <td>False</td>\n",
       "      <td>False</td>\n",
       "      <td>False</td>\n",
       "      <td>False</td>\n",
       "      <td>False</td>\n",
       "      <td>False</td>\n",
       "    </tr>\n",
       "    <tr>\n",
       "      <th>9798</th>\n",
       "      <td>False</td>\n",
       "      <td>False</td>\n",
       "      <td>False</td>\n",
       "      <td>False</td>\n",
       "      <td>False</td>\n",
       "      <td>False</td>\n",
       "      <td>False</td>\n",
       "      <td>False</td>\n",
       "      <td>False</td>\n",
       "      <td>False</td>\n",
       "      <td>False</td>\n",
       "      <td>False</td>\n",
       "      <td>False</td>\n",
       "      <td>False</td>\n",
       "      <td>False</td>\n",
       "      <td>False</td>\n",
       "      <td>False</td>\n",
       "    </tr>\n",
       "    <tr>\n",
       "      <th>9799</th>\n",
       "      <td>False</td>\n",
       "      <td>False</td>\n",
       "      <td>False</td>\n",
       "      <td>False</td>\n",
       "      <td>False</td>\n",
       "      <td>False</td>\n",
       "      <td>False</td>\n",
       "      <td>False</td>\n",
       "      <td>False</td>\n",
       "      <td>False</td>\n",
       "      <td>False</td>\n",
       "      <td>False</td>\n",
       "      <td>False</td>\n",
       "      <td>False</td>\n",
       "      <td>False</td>\n",
       "      <td>False</td>\n",
       "      <td>False</td>\n",
       "    </tr>\n",
       "    <tr>\n",
       "      <th>9800</th>\n",
       "      <td>False</td>\n",
       "      <td>False</td>\n",
       "      <td>False</td>\n",
       "      <td>False</td>\n",
       "      <td>False</td>\n",
       "      <td>False</td>\n",
       "      <td>False</td>\n",
       "      <td>False</td>\n",
       "      <td>False</td>\n",
       "      <td>False</td>\n",
       "      <td>False</td>\n",
       "      <td>False</td>\n",
       "      <td>False</td>\n",
       "      <td>False</td>\n",
       "      <td>False</td>\n",
       "      <td>False</td>\n",
       "      <td>False</td>\n",
       "    </tr>\n",
       "  </tbody>\n",
       "</table>\n",
       "<p>9800 rows × 17 columns</p>\n",
       "</div>"
      ],
      "text/plain": [
       "        Order ID  Order Date  Ship Date  Ship Mode  Customer ID  \\\n",
       "Row ID                                                            \n",
       "1          False       False      False      False        False   \n",
       "2          False       False      False      False        False   \n",
       "3          False       False      False      False        False   \n",
       "4          False       False      False      False        False   \n",
       "5          False       False      False      False        False   \n",
       "...          ...         ...        ...        ...          ...   \n",
       "9796       False       False      False      False        False   \n",
       "9797       False       False      False      False        False   \n",
       "9798       False       False      False      False        False   \n",
       "9799       False       False      False      False        False   \n",
       "9800       False       False      False      False        False   \n",
       "\n",
       "        Customer Name  Segment  Country   City  State  Postal Code  Region  \\\n",
       "Row ID                                                                       \n",
       "1               False    False    False  False  False        False   False   \n",
       "2               False    False    False  False  False        False   False   \n",
       "3               False    False    False  False  False        False   False   \n",
       "4               False    False    False  False  False        False   False   \n",
       "5               False    False    False  False  False        False   False   \n",
       "...               ...      ...      ...    ...    ...          ...     ...   \n",
       "9796            False    False    False  False  False        False   False   \n",
       "9797            False    False    False  False  False        False   False   \n",
       "9798            False    False    False  False  False        False   False   \n",
       "9799            False    False    False  False  False        False   False   \n",
       "9800            False    False    False  False  False        False   False   \n",
       "\n",
       "        Product ID  Category  Sub-Category  Product Name  Sales  \n",
       "Row ID                                                           \n",
       "1            False     False         False         False  False  \n",
       "2            False     False         False         False  False  \n",
       "3            False     False         False         False  False  \n",
       "4            False     False         False         False  False  \n",
       "5            False     False         False         False  False  \n",
       "...            ...       ...           ...           ...    ...  \n",
       "9796         False     False         False         False  False  \n",
       "9797         False     False         False         False  False  \n",
       "9798         False     False         False         False  False  \n",
       "9799         False     False         False         False  False  \n",
       "9800         False     False         False         False  False  \n",
       "\n",
       "[9800 rows x 17 columns]"
      ]
     },
     "execution_count": 12,
     "metadata": {},
     "output_type": "execute_result"
    }
   ],
   "source": [
    "df.isna()"
   ]
  },
  {
   "cell_type": "code",
   "execution_count": 13,
   "id": "eb2c4b41",
   "metadata": {},
   "outputs": [
    {
     "data": {
      "text/html": [
       "<div>\n",
       "<style scoped>\n",
       "    .dataframe tbody tr th:only-of-type {\n",
       "        vertical-align: middle;\n",
       "    }\n",
       "\n",
       "    .dataframe tbody tr th {\n",
       "        vertical-align: top;\n",
       "    }\n",
       "\n",
       "    .dataframe thead th {\n",
       "        text-align: right;\n",
       "    }\n",
       "</style>\n",
       "<table border=\"1\" class=\"dataframe\">\n",
       "  <thead>\n",
       "    <tr style=\"text-align: right;\">\n",
       "      <th></th>\n",
       "      <th>Order ID</th>\n",
       "      <th>Order Date</th>\n",
       "      <th>Ship Date</th>\n",
       "      <th>Ship Mode</th>\n",
       "      <th>Customer ID</th>\n",
       "      <th>Customer Name</th>\n",
       "      <th>Segment</th>\n",
       "      <th>Country</th>\n",
       "      <th>City</th>\n",
       "      <th>State</th>\n",
       "      <th>Postal Code</th>\n",
       "      <th>Region</th>\n",
       "      <th>Product ID</th>\n",
       "      <th>Category</th>\n",
       "      <th>Sub-Category</th>\n",
       "      <th>Product Name</th>\n",
       "      <th>Sales</th>\n",
       "    </tr>\n",
       "    <tr>\n",
       "      <th>Row ID</th>\n",
       "      <th></th>\n",
       "      <th></th>\n",
       "      <th></th>\n",
       "      <th></th>\n",
       "      <th></th>\n",
       "      <th></th>\n",
       "      <th></th>\n",
       "      <th></th>\n",
       "      <th></th>\n",
       "      <th></th>\n",
       "      <th></th>\n",
       "      <th></th>\n",
       "      <th></th>\n",
       "      <th></th>\n",
       "      <th></th>\n",
       "      <th></th>\n",
       "      <th></th>\n",
       "    </tr>\n",
       "  </thead>\n",
       "  <tbody>\n",
       "    <tr>\n",
       "      <th>2235</th>\n",
       "      <td>CA-2018-104066</td>\n",
       "      <td>2018-12-05</td>\n",
       "      <td>2018-12-10</td>\n",
       "      <td>Standard Class</td>\n",
       "      <td>QJ-19255</td>\n",
       "      <td>Quincy Jones</td>\n",
       "      <td>Corporate</td>\n",
       "      <td>United States</td>\n",
       "      <td>Burlington</td>\n",
       "      <td>Vermont</td>\n",
       "      <td>NaN</td>\n",
       "      <td>East</td>\n",
       "      <td>TEC-AC-10001013</td>\n",
       "      <td>Technology</td>\n",
       "      <td>Accessories</td>\n",
       "      <td>Logitech ClearChat Comfort/USB Headset H390</td>\n",
       "      <td>205.03</td>\n",
       "    </tr>\n",
       "    <tr>\n",
       "      <th>5275</th>\n",
       "      <td>CA-2016-162887</td>\n",
       "      <td>2016-11-07</td>\n",
       "      <td>2016-11-09</td>\n",
       "      <td>Second Class</td>\n",
       "      <td>SV-20785</td>\n",
       "      <td>Stewart Visinsky</td>\n",
       "      <td>Consumer</td>\n",
       "      <td>United States</td>\n",
       "      <td>Burlington</td>\n",
       "      <td>Vermont</td>\n",
       "      <td>NaN</td>\n",
       "      <td>East</td>\n",
       "      <td>FUR-CH-10000595</td>\n",
       "      <td>Furniture</td>\n",
       "      <td>Chairs</td>\n",
       "      <td>Safco Contoured Stacking Chairs</td>\n",
       "      <td>715.20</td>\n",
       "    </tr>\n",
       "    <tr>\n",
       "      <th>8799</th>\n",
       "      <td>US-2017-150140</td>\n",
       "      <td>2017-04-06</td>\n",
       "      <td>2017-04-10</td>\n",
       "      <td>Standard Class</td>\n",
       "      <td>VM-21685</td>\n",
       "      <td>Valerie Mitchum</td>\n",
       "      <td>Home Office</td>\n",
       "      <td>United States</td>\n",
       "      <td>Burlington</td>\n",
       "      <td>Vermont</td>\n",
       "      <td>NaN</td>\n",
       "      <td>East</td>\n",
       "      <td>TEC-PH-10002555</td>\n",
       "      <td>Technology</td>\n",
       "      <td>Phones</td>\n",
       "      <td>Nortel Meridian M5316 Digital phone</td>\n",
       "      <td>1294.75</td>\n",
       "    </tr>\n",
       "    <tr>\n",
       "      <th>9147</th>\n",
       "      <td>US-2017-165505</td>\n",
       "      <td>2017-01-23</td>\n",
       "      <td>2017-01-27</td>\n",
       "      <td>Standard Class</td>\n",
       "      <td>CB-12535</td>\n",
       "      <td>Claudia Bergmann</td>\n",
       "      <td>Corporate</td>\n",
       "      <td>United States</td>\n",
       "      <td>Burlington</td>\n",
       "      <td>Vermont</td>\n",
       "      <td>NaN</td>\n",
       "      <td>East</td>\n",
       "      <td>TEC-AC-10002926</td>\n",
       "      <td>Technology</td>\n",
       "      <td>Accessories</td>\n",
       "      <td>Logitech Wireless Marathon Mouse M705</td>\n",
       "      <td>99.98</td>\n",
       "    </tr>\n",
       "    <tr>\n",
       "      <th>9148</th>\n",
       "      <td>US-2017-165505</td>\n",
       "      <td>2017-01-23</td>\n",
       "      <td>2017-01-27</td>\n",
       "      <td>Standard Class</td>\n",
       "      <td>CB-12535</td>\n",
       "      <td>Claudia Bergmann</td>\n",
       "      <td>Corporate</td>\n",
       "      <td>United States</td>\n",
       "      <td>Burlington</td>\n",
       "      <td>Vermont</td>\n",
       "      <td>NaN</td>\n",
       "      <td>East</td>\n",
       "      <td>OFF-AR-10003477</td>\n",
       "      <td>Office Supplies</td>\n",
       "      <td>Art</td>\n",
       "      <td>4009 Highlighters</td>\n",
       "      <td>8.04</td>\n",
       "    </tr>\n",
       "    <tr>\n",
       "      <th>9149</th>\n",
       "      <td>US-2017-165505</td>\n",
       "      <td>2017-01-23</td>\n",
       "      <td>2017-01-27</td>\n",
       "      <td>Standard Class</td>\n",
       "      <td>CB-12535</td>\n",
       "      <td>Claudia Bergmann</td>\n",
       "      <td>Corporate</td>\n",
       "      <td>United States</td>\n",
       "      <td>Burlington</td>\n",
       "      <td>Vermont</td>\n",
       "      <td>NaN</td>\n",
       "      <td>East</td>\n",
       "      <td>OFF-ST-10001526</td>\n",
       "      <td>Office Supplies</td>\n",
       "      <td>Storage</td>\n",
       "      <td>Iceberg Mobile Mega Data/Printer Cart</td>\n",
       "      <td>1564.29</td>\n",
       "    </tr>\n",
       "    <tr>\n",
       "      <th>9387</th>\n",
       "      <td>US-2018-127292</td>\n",
       "      <td>2018-01-19</td>\n",
       "      <td>2018-01-23</td>\n",
       "      <td>Standard Class</td>\n",
       "      <td>RM-19375</td>\n",
       "      <td>Raymond Messe</td>\n",
       "      <td>Consumer</td>\n",
       "      <td>United States</td>\n",
       "      <td>Burlington</td>\n",
       "      <td>Vermont</td>\n",
       "      <td>NaN</td>\n",
       "      <td>East</td>\n",
       "      <td>OFF-PA-10000157</td>\n",
       "      <td>Office Supplies</td>\n",
       "      <td>Paper</td>\n",
       "      <td>Xerox 191</td>\n",
       "      <td>79.92</td>\n",
       "    </tr>\n",
       "    <tr>\n",
       "      <th>9388</th>\n",
       "      <td>US-2018-127292</td>\n",
       "      <td>2018-01-19</td>\n",
       "      <td>2018-01-23</td>\n",
       "      <td>Standard Class</td>\n",
       "      <td>RM-19375</td>\n",
       "      <td>Raymond Messe</td>\n",
       "      <td>Consumer</td>\n",
       "      <td>United States</td>\n",
       "      <td>Burlington</td>\n",
       "      <td>Vermont</td>\n",
       "      <td>NaN</td>\n",
       "      <td>East</td>\n",
       "      <td>OFF-PA-10001970</td>\n",
       "      <td>Office Supplies</td>\n",
       "      <td>Paper</td>\n",
       "      <td>Xerox 1881</td>\n",
       "      <td>12.28</td>\n",
       "    </tr>\n",
       "    <tr>\n",
       "      <th>9389</th>\n",
       "      <td>US-2018-127292</td>\n",
       "      <td>2018-01-19</td>\n",
       "      <td>2018-01-23</td>\n",
       "      <td>Standard Class</td>\n",
       "      <td>RM-19375</td>\n",
       "      <td>Raymond Messe</td>\n",
       "      <td>Consumer</td>\n",
       "      <td>United States</td>\n",
       "      <td>Burlington</td>\n",
       "      <td>Vermont</td>\n",
       "      <td>NaN</td>\n",
       "      <td>East</td>\n",
       "      <td>OFF-AP-10000828</td>\n",
       "      <td>Office Supplies</td>\n",
       "      <td>Appliances</td>\n",
       "      <td>Avanti 4.4 Cu. Ft. Refrigerator</td>\n",
       "      <td>542.94</td>\n",
       "    </tr>\n",
       "    <tr>\n",
       "      <th>9390</th>\n",
       "      <td>US-2018-127292</td>\n",
       "      <td>2018-01-19</td>\n",
       "      <td>2018-01-23</td>\n",
       "      <td>Standard Class</td>\n",
       "      <td>RM-19375</td>\n",
       "      <td>Raymond Messe</td>\n",
       "      <td>Consumer</td>\n",
       "      <td>United States</td>\n",
       "      <td>Burlington</td>\n",
       "      <td>Vermont</td>\n",
       "      <td>NaN</td>\n",
       "      <td>East</td>\n",
       "      <td>OFF-EN-10001509</td>\n",
       "      <td>Office Supplies</td>\n",
       "      <td>Envelopes</td>\n",
       "      <td>Poly String Tie Envelopes</td>\n",
       "      <td>2.04</td>\n",
       "    </tr>\n",
       "    <tr>\n",
       "      <th>9742</th>\n",
       "      <td>CA-2016-117086</td>\n",
       "      <td>2016-11-08</td>\n",
       "      <td>2016-11-12</td>\n",
       "      <td>Standard Class</td>\n",
       "      <td>QJ-19255</td>\n",
       "      <td>Quincy Jones</td>\n",
       "      <td>Corporate</td>\n",
       "      <td>United States</td>\n",
       "      <td>Burlington</td>\n",
       "      <td>Vermont</td>\n",
       "      <td>NaN</td>\n",
       "      <td>East</td>\n",
       "      <td>FUR-BO-10004834</td>\n",
       "      <td>Furniture</td>\n",
       "      <td>Bookcases</td>\n",
       "      <td>Riverside Palais Royal Lawyers Bookcase, Royal...</td>\n",
       "      <td>4404.90</td>\n",
       "    </tr>\n",
       "  </tbody>\n",
       "</table>\n",
       "</div>"
      ],
      "text/plain": [
       "              Order ID Order Date  Ship Date       Ship Mode Customer ID  \\\n",
       "Row ID                                                                     \n",
       "2235    CA-2018-104066 2018-12-05 2018-12-10  Standard Class    QJ-19255   \n",
       "5275    CA-2016-162887 2016-11-07 2016-11-09    Second Class    SV-20785   \n",
       "8799    US-2017-150140 2017-04-06 2017-04-10  Standard Class    VM-21685   \n",
       "9147    US-2017-165505 2017-01-23 2017-01-27  Standard Class    CB-12535   \n",
       "9148    US-2017-165505 2017-01-23 2017-01-27  Standard Class    CB-12535   \n",
       "9149    US-2017-165505 2017-01-23 2017-01-27  Standard Class    CB-12535   \n",
       "9387    US-2018-127292 2018-01-19 2018-01-23  Standard Class    RM-19375   \n",
       "9388    US-2018-127292 2018-01-19 2018-01-23  Standard Class    RM-19375   \n",
       "9389    US-2018-127292 2018-01-19 2018-01-23  Standard Class    RM-19375   \n",
       "9390    US-2018-127292 2018-01-19 2018-01-23  Standard Class    RM-19375   \n",
       "9742    CA-2016-117086 2016-11-08 2016-11-12  Standard Class    QJ-19255   \n",
       "\n",
       "           Customer Name      Segment        Country        City    State  \\\n",
       "Row ID                                                                      \n",
       "2235        Quincy Jones    Corporate  United States  Burlington  Vermont   \n",
       "5275    Stewart Visinsky     Consumer  United States  Burlington  Vermont   \n",
       "8799     Valerie Mitchum  Home Office  United States  Burlington  Vermont   \n",
       "9147    Claudia Bergmann    Corporate  United States  Burlington  Vermont   \n",
       "9148    Claudia Bergmann    Corporate  United States  Burlington  Vermont   \n",
       "9149    Claudia Bergmann    Corporate  United States  Burlington  Vermont   \n",
       "9387       Raymond Messe     Consumer  United States  Burlington  Vermont   \n",
       "9388       Raymond Messe     Consumer  United States  Burlington  Vermont   \n",
       "9389       Raymond Messe     Consumer  United States  Burlington  Vermont   \n",
       "9390       Raymond Messe     Consumer  United States  Burlington  Vermont   \n",
       "9742        Quincy Jones    Corporate  United States  Burlington  Vermont   \n",
       "\n",
       "        Postal Code Region       Product ID         Category Sub-Category  \\\n",
       "Row ID                                                                      \n",
       "2235            NaN   East  TEC-AC-10001013       Technology  Accessories   \n",
       "5275            NaN   East  FUR-CH-10000595        Furniture       Chairs   \n",
       "8799            NaN   East  TEC-PH-10002555       Technology       Phones   \n",
       "9147            NaN   East  TEC-AC-10002926       Technology  Accessories   \n",
       "9148            NaN   East  OFF-AR-10003477  Office Supplies          Art   \n",
       "9149            NaN   East  OFF-ST-10001526  Office Supplies      Storage   \n",
       "9387            NaN   East  OFF-PA-10000157  Office Supplies        Paper   \n",
       "9388            NaN   East  OFF-PA-10001970  Office Supplies        Paper   \n",
       "9389            NaN   East  OFF-AP-10000828  Office Supplies   Appliances   \n",
       "9390            NaN   East  OFF-EN-10001509  Office Supplies    Envelopes   \n",
       "9742            NaN   East  FUR-BO-10004834        Furniture    Bookcases   \n",
       "\n",
       "                                             Product Name    Sales  \n",
       "Row ID                                                              \n",
       "2235          Logitech ClearChat Comfort/USB Headset H390   205.03  \n",
       "5275                      Safco Contoured Stacking Chairs   715.20  \n",
       "8799                  Nortel Meridian M5316 Digital phone  1294.75  \n",
       "9147                Logitech Wireless Marathon Mouse M705    99.98  \n",
       "9148                                    4009 Highlighters     8.04  \n",
       "9149                Iceberg Mobile Mega Data/Printer Cart  1564.29  \n",
       "9387                                            Xerox 191    79.92  \n",
       "9388                                           Xerox 1881    12.28  \n",
       "9389                      Avanti 4.4 Cu. Ft. Refrigerator   542.94  \n",
       "9390                            Poly String Tie Envelopes     2.04  \n",
       "9742    Riverside Palais Royal Lawyers Bookcase, Royal...  4404.90  "
      ]
     },
     "execution_count": 13,
     "metadata": {},
     "output_type": "execute_result"
    }
   ],
   "source": [
    "# lising he NaN values\n",
    "df[df['Postal Code'].isna()]"
   ]
  },
  {
   "cell_type": "code",
   "execution_count": null,
   "id": "1dffd676",
   "metadata": {},
   "outputs": [],
   "source": []
  },
  {
   "cell_type": "markdown",
   "id": "bf017892",
   "metadata": {},
   "source": [
    "<b>Answer:</b> It was noticed tha the <code>postal code</code> column has 11 NaN values.\n",
    "\n",
    "it can be treated by:\n",
    "\n",
    "1.) by asking the stakeholder to provide informaion about the missing Values\n",
    "\n",
    "2.) or it can be treated by fixing the NaN values with Unknown since they unknown.\n",
    "\n",
    "3.) filling it with the values of columns that have similar values"
   ]
  },
  {
   "cell_type": "code",
   "execution_count": 14,
   "id": "af1e400b",
   "metadata": {},
   "outputs": [],
   "source": [
    "def fill_missing_pc(row, df):\n",
    "    if pd.isna(row['Postal Code']):\n",
    "        match = df[(df['City'] == row['City']) & (df['Country'] == row['Country']) & df['Postal Code'].notna()]\n",
    "        if not match.empty:\n",
    "            return match['Postal Code'].values[0]\n",
    "    return row['Postal Code']\n",
    "\n",
    "# Applying function\n",
    "df['Postal Code'] = df.apply(lambda row: fill_missing_pc(row, df), axis=1)"
   ]
  },
  {
   "cell_type": "code",
   "execution_count": 15,
   "id": "41667272",
   "metadata": {
    "scrolled": true
   },
   "outputs": [
    {
     "data": {
      "text/plain": [
       "Order ID         0\n",
       "Order Date       0\n",
       "Ship Date        0\n",
       "Ship Mode        0\n",
       "Customer ID      0\n",
       "Customer Name    0\n",
       "Segment          0\n",
       "Country          0\n",
       "City             0\n",
       "State            0\n",
       "Postal Code      0\n",
       "Region           0\n",
       "Product ID       0\n",
       "Category         0\n",
       "Sub-Category     0\n",
       "Product Name     0\n",
       "Sales            0\n",
       "dtype: int64"
      ]
     },
     "execution_count": 15,
     "metadata": {},
     "output_type": "execute_result"
    }
   ],
   "source": [
    "df.isna().sum()"
   ]
  },
  {
   "cell_type": "markdown",
   "id": "14749c24",
   "metadata": {},
   "source": [
    "● What are the data types of each column?"
   ]
  },
  {
   "cell_type": "code",
   "execution_count": 16,
   "id": "bc133b3c",
   "metadata": {},
   "outputs": [
    {
     "name": "stdout",
     "output_type": "stream",
     "text": [
      "<class 'pandas.core.frame.DataFrame'>\n",
      "Index: 9800 entries, 1 to 9800\n",
      "Data columns (total 17 columns):\n",
      " #   Column         Non-Null Count  Dtype         \n",
      "---  ------         --------------  -----         \n",
      " 0   Order ID       9800 non-null   object        \n",
      " 1   Order Date     9800 non-null   datetime64[ns]\n",
      " 2   Ship Date      9800 non-null   datetime64[ns]\n",
      " 3   Ship Mode      9800 non-null   object        \n",
      " 4   Customer ID    9800 non-null   object        \n",
      " 5   Customer Name  9800 non-null   object        \n",
      " 6   Segment        9800 non-null   object        \n",
      " 7   Country        9800 non-null   object        \n",
      " 8   City           9800 non-null   object        \n",
      " 9   State          9800 non-null   object        \n",
      " 10  Postal Code    9800 non-null   float64       \n",
      " 11  Region         9800 non-null   object        \n",
      " 12  Product ID     9800 non-null   object        \n",
      " 13  Category       9800 non-null   object        \n",
      " 14  Sub-Category   9800 non-null   object        \n",
      " 15  Product Name   9800 non-null   object        \n",
      " 16  Sales          9800 non-null   float64       \n",
      "dtypes: datetime64[ns](2), float64(2), object(13)\n",
      "memory usage: 1.3+ MB\n"
     ]
    }
   ],
   "source": [
    "df.info()"
   ]
  },
  {
   "cell_type": "markdown",
   "id": "5d55e44e",
   "metadata": {},
   "source": [
    "<b>Answer:</b> All the columns in the dataset are string object datatype except the Sales column which is float64 datatype, the Order Date and the Shipped Date which was in object string but later convetred to datetime datatype"
   ]
  },
  {
   "cell_type": "markdown",
   "id": "c8c0cca7",
   "metadata": {},
   "source": [
    "● Are there duplicates in the dataset? If yes list them and fix them"
   ]
  },
  {
   "cell_type": "code",
   "execution_count": 17,
   "id": "a337631c",
   "metadata": {},
   "outputs": [
    {
     "data": {
      "text/plain": [
       "1"
      ]
     },
     "execution_count": 17,
     "metadata": {},
     "output_type": "execute_result"
    }
   ],
   "source": [
    "df.duplicated().sum()"
   ]
  },
  {
   "cell_type": "code",
   "execution_count": 18,
   "id": "296d481d",
   "metadata": {},
   "outputs": [
    {
     "data": {
      "text/html": [
       "<div>\n",
       "<style scoped>\n",
       "    .dataframe tbody tr th:only-of-type {\n",
       "        vertical-align: middle;\n",
       "    }\n",
       "\n",
       "    .dataframe tbody tr th {\n",
       "        vertical-align: top;\n",
       "    }\n",
       "\n",
       "    .dataframe thead th {\n",
       "        text-align: right;\n",
       "    }\n",
       "</style>\n",
       "<table border=\"1\" class=\"dataframe\">\n",
       "  <thead>\n",
       "    <tr style=\"text-align: right;\">\n",
       "      <th></th>\n",
       "      <th>Order ID</th>\n",
       "      <th>Order Date</th>\n",
       "      <th>Ship Date</th>\n",
       "      <th>Ship Mode</th>\n",
       "      <th>Customer ID</th>\n",
       "      <th>Customer Name</th>\n",
       "      <th>Segment</th>\n",
       "      <th>Country</th>\n",
       "      <th>City</th>\n",
       "      <th>State</th>\n",
       "      <th>Postal Code</th>\n",
       "      <th>Region</th>\n",
       "      <th>Product ID</th>\n",
       "      <th>Category</th>\n",
       "      <th>Sub-Category</th>\n",
       "      <th>Product Name</th>\n",
       "      <th>Sales</th>\n",
       "    </tr>\n",
       "    <tr>\n",
       "      <th>Row ID</th>\n",
       "      <th></th>\n",
       "      <th></th>\n",
       "      <th></th>\n",
       "      <th></th>\n",
       "      <th></th>\n",
       "      <th></th>\n",
       "      <th></th>\n",
       "      <th></th>\n",
       "      <th></th>\n",
       "      <th></th>\n",
       "      <th></th>\n",
       "      <th></th>\n",
       "      <th></th>\n",
       "      <th></th>\n",
       "      <th></th>\n",
       "      <th></th>\n",
       "      <th></th>\n",
       "    </tr>\n",
       "  </thead>\n",
       "  <tbody>\n",
       "    <tr>\n",
       "      <th>3407</th>\n",
       "      <td>US-2015-150119</td>\n",
       "      <td>2015-04-23</td>\n",
       "      <td>2015-04-27</td>\n",
       "      <td>Standard Class</td>\n",
       "      <td>LB-16795</td>\n",
       "      <td>Laurel Beltran</td>\n",
       "      <td>Home Office</td>\n",
       "      <td>United States</td>\n",
       "      <td>Columbus</td>\n",
       "      <td>Ohio</td>\n",
       "      <td>43229.0</td>\n",
       "      <td>East</td>\n",
       "      <td>FUR-CH-10002965</td>\n",
       "      <td>Furniture</td>\n",
       "      <td>Chairs</td>\n",
       "      <td>Global Leather Highback Executive Chair with P...</td>\n",
       "      <td>281.372</td>\n",
       "    </tr>\n",
       "  </tbody>\n",
       "</table>\n",
       "</div>"
      ],
      "text/plain": [
       "              Order ID Order Date  Ship Date       Ship Mode Customer ID  \\\n",
       "Row ID                                                                     \n",
       "3407    US-2015-150119 2015-04-23 2015-04-27  Standard Class    LB-16795   \n",
       "\n",
       "         Customer Name      Segment        Country      City State  \\\n",
       "Row ID                                                               \n",
       "3407    Laurel Beltran  Home Office  United States  Columbus  Ohio   \n",
       "\n",
       "        Postal Code Region       Product ID   Category Sub-Category  \\\n",
       "Row ID                                                                \n",
       "3407        43229.0   East  FUR-CH-10002965  Furniture       Chairs   \n",
       "\n",
       "                                             Product Name    Sales  \n",
       "Row ID                                                              \n",
       "3407    Global Leather Highback Executive Chair with P...  281.372  "
      ]
     },
     "execution_count": 18,
     "metadata": {},
     "output_type": "execute_result"
    }
   ],
   "source": [
    "df[df.duplicated()]"
   ]
  },
  {
   "cell_type": "code",
   "execution_count": 19,
   "id": "96eed670",
   "metadata": {
    "scrolled": false
   },
   "outputs": [
    {
     "data": {
      "text/html": [
       "<div>\n",
       "<style scoped>\n",
       "    .dataframe tbody tr th:only-of-type {\n",
       "        vertical-align: middle;\n",
       "    }\n",
       "\n",
       "    .dataframe tbody tr th {\n",
       "        vertical-align: top;\n",
       "    }\n",
       "\n",
       "    .dataframe thead th {\n",
       "        text-align: right;\n",
       "    }\n",
       "</style>\n",
       "<table border=\"1\" class=\"dataframe\">\n",
       "  <thead>\n",
       "    <tr style=\"text-align: right;\">\n",
       "      <th></th>\n",
       "      <th>Order ID</th>\n",
       "      <th>Order Date</th>\n",
       "      <th>Ship Date</th>\n",
       "      <th>Ship Mode</th>\n",
       "      <th>Customer ID</th>\n",
       "      <th>Customer Name</th>\n",
       "      <th>Segment</th>\n",
       "      <th>Country</th>\n",
       "      <th>City</th>\n",
       "      <th>State</th>\n",
       "      <th>Postal Code</th>\n",
       "      <th>Region</th>\n",
       "      <th>Product ID</th>\n",
       "      <th>Category</th>\n",
       "      <th>Sub-Category</th>\n",
       "      <th>Product Name</th>\n",
       "      <th>Sales</th>\n",
       "    </tr>\n",
       "    <tr>\n",
       "      <th>Row ID</th>\n",
       "      <th></th>\n",
       "      <th></th>\n",
       "      <th></th>\n",
       "      <th></th>\n",
       "      <th></th>\n",
       "      <th></th>\n",
       "      <th></th>\n",
       "      <th></th>\n",
       "      <th></th>\n",
       "      <th></th>\n",
       "      <th></th>\n",
       "      <th></th>\n",
       "      <th></th>\n",
       "      <th></th>\n",
       "      <th></th>\n",
       "      <th></th>\n",
       "      <th></th>\n",
       "    </tr>\n",
       "  </thead>\n",
       "  <tbody>\n",
       "    <tr>\n",
       "      <th>3406</th>\n",
       "      <td>US-2015-150119</td>\n",
       "      <td>2015-04-23</td>\n",
       "      <td>2015-04-27</td>\n",
       "      <td>Standard Class</td>\n",
       "      <td>LB-16795</td>\n",
       "      <td>Laurel Beltran</td>\n",
       "      <td>Home Office</td>\n",
       "      <td>United States</td>\n",
       "      <td>Columbus</td>\n",
       "      <td>Ohio</td>\n",
       "      <td>43229.0</td>\n",
       "      <td>East</td>\n",
       "      <td>FUR-CH-10002965</td>\n",
       "      <td>Furniture</td>\n",
       "      <td>Chairs</td>\n",
       "      <td>Global Leather Highback Executive Chair with P...</td>\n",
       "      <td>281.372</td>\n",
       "    </tr>\n",
       "    <tr>\n",
       "      <th>3407</th>\n",
       "      <td>US-2015-150119</td>\n",
       "      <td>2015-04-23</td>\n",
       "      <td>2015-04-27</td>\n",
       "      <td>Standard Class</td>\n",
       "      <td>LB-16795</td>\n",
       "      <td>Laurel Beltran</td>\n",
       "      <td>Home Office</td>\n",
       "      <td>United States</td>\n",
       "      <td>Columbus</td>\n",
       "      <td>Ohio</td>\n",
       "      <td>43229.0</td>\n",
       "      <td>East</td>\n",
       "      <td>FUR-CH-10002965</td>\n",
       "      <td>Furniture</td>\n",
       "      <td>Chairs</td>\n",
       "      <td>Global Leather Highback Executive Chair with P...</td>\n",
       "      <td>281.372</td>\n",
       "    </tr>\n",
       "    <tr>\n",
       "      <th>3408</th>\n",
       "      <td>US-2015-150119</td>\n",
       "      <td>2015-04-23</td>\n",
       "      <td>2015-04-27</td>\n",
       "      <td>Standard Class</td>\n",
       "      <td>LB-16795</td>\n",
       "      <td>Laurel Beltran</td>\n",
       "      <td>Home Office</td>\n",
       "      <td>United States</td>\n",
       "      <td>Columbus</td>\n",
       "      <td>Ohio</td>\n",
       "      <td>43229.0</td>\n",
       "      <td>East</td>\n",
       "      <td>OFF-BI-10000145</td>\n",
       "      <td>Office Supplies</td>\n",
       "      <td>Binders</td>\n",
       "      <td>Zipper Ring Binder Pockets</td>\n",
       "      <td>7.488</td>\n",
       "    </tr>\n",
       "    <tr>\n",
       "      <th>3409</th>\n",
       "      <td>US-2015-150119</td>\n",
       "      <td>2015-04-23</td>\n",
       "      <td>2015-04-27</td>\n",
       "      <td>Standard Class</td>\n",
       "      <td>LB-16795</td>\n",
       "      <td>Laurel Beltran</td>\n",
       "      <td>Home Office</td>\n",
       "      <td>United States</td>\n",
       "      <td>Columbus</td>\n",
       "      <td>Ohio</td>\n",
       "      <td>43229.0</td>\n",
       "      <td>East</td>\n",
       "      <td>FUR-FU-10002191</td>\n",
       "      <td>Furniture</td>\n",
       "      <td>Furnishings</td>\n",
       "      <td>G.E. Halogen Desk Lamp Bulbs</td>\n",
       "      <td>22.336</td>\n",
       "    </tr>\n",
       "    <tr>\n",
       "      <th>3410</th>\n",
       "      <td>US-2018-150847</td>\n",
       "      <td>2018-04-30</td>\n",
       "      <td>2018-05-06</td>\n",
       "      <td>Standard Class</td>\n",
       "      <td>JF-15490</td>\n",
       "      <td>Jeremy Farry</td>\n",
       "      <td>Consumer</td>\n",
       "      <td>United States</td>\n",
       "      <td>Columbus</td>\n",
       "      <td>Ohio</td>\n",
       "      <td>43229.0</td>\n",
       "      <td>East</td>\n",
       "      <td>OFF-PA-10004451</td>\n",
       "      <td>Office Supplies</td>\n",
       "      <td>Paper</td>\n",
       "      <td>Xerox 222</td>\n",
       "      <td>10.368</td>\n",
       "    </tr>\n",
       "  </tbody>\n",
       "</table>\n",
       "</div>"
      ],
      "text/plain": [
       "              Order ID Order Date  Ship Date       Ship Mode Customer ID  \\\n",
       "Row ID                                                                     \n",
       "3406    US-2015-150119 2015-04-23 2015-04-27  Standard Class    LB-16795   \n",
       "3407    US-2015-150119 2015-04-23 2015-04-27  Standard Class    LB-16795   \n",
       "3408    US-2015-150119 2015-04-23 2015-04-27  Standard Class    LB-16795   \n",
       "3409    US-2015-150119 2015-04-23 2015-04-27  Standard Class    LB-16795   \n",
       "3410    US-2018-150847 2018-04-30 2018-05-06  Standard Class    JF-15490   \n",
       "\n",
       "         Customer Name      Segment        Country      City State  \\\n",
       "Row ID                                                               \n",
       "3406    Laurel Beltran  Home Office  United States  Columbus  Ohio   \n",
       "3407    Laurel Beltran  Home Office  United States  Columbus  Ohio   \n",
       "3408    Laurel Beltran  Home Office  United States  Columbus  Ohio   \n",
       "3409    Laurel Beltran  Home Office  United States  Columbus  Ohio   \n",
       "3410      Jeremy Farry     Consumer  United States  Columbus  Ohio   \n",
       "\n",
       "        Postal Code Region       Product ID         Category Sub-Category  \\\n",
       "Row ID                                                                      \n",
       "3406        43229.0   East  FUR-CH-10002965        Furniture       Chairs   \n",
       "3407        43229.0   East  FUR-CH-10002965        Furniture       Chairs   \n",
       "3408        43229.0   East  OFF-BI-10000145  Office Supplies      Binders   \n",
       "3409        43229.0   East  FUR-FU-10002191        Furniture  Furnishings   \n",
       "3410        43229.0   East  OFF-PA-10004451  Office Supplies        Paper   \n",
       "\n",
       "                                             Product Name    Sales  \n",
       "Row ID                                                              \n",
       "3406    Global Leather Highback Executive Chair with P...  281.372  \n",
       "3407    Global Leather Highback Executive Chair with P...  281.372  \n",
       "3408                           Zipper Ring Binder Pockets    7.488  \n",
       "3409                         G.E. Halogen Desk Lamp Bulbs   22.336  \n",
       "3410                                            Xerox 222   10.368  "
      ]
     },
     "execution_count": 19,
     "metadata": {},
     "output_type": "execute_result"
    }
   ],
   "source": [
    "df.loc[3406:3410]"
   ]
  },
  {
   "cell_type": "markdown",
   "id": "7cddbdaf",
   "metadata": {},
   "source": [
    "it was observed tha the Row ID 3406 and 3407 are duplicates"
   ]
  },
  {
   "cell_type": "code",
   "execution_count": 20,
   "id": "8cf20e7d",
   "metadata": {},
   "outputs": [],
   "source": [
    "df = df.drop_duplicates()"
   ]
  },
  {
   "cell_type": "code",
   "execution_count": 21,
   "id": "a5937ae2",
   "metadata": {},
   "outputs": [
    {
     "data": {
      "text/html": [
       "<div>\n",
       "<style scoped>\n",
       "    .dataframe tbody tr th:only-of-type {\n",
       "        vertical-align: middle;\n",
       "    }\n",
       "\n",
       "    .dataframe tbody tr th {\n",
       "        vertical-align: top;\n",
       "    }\n",
       "\n",
       "    .dataframe thead th {\n",
       "        text-align: right;\n",
       "    }\n",
       "</style>\n",
       "<table border=\"1\" class=\"dataframe\">\n",
       "  <thead>\n",
       "    <tr style=\"text-align: right;\">\n",
       "      <th></th>\n",
       "      <th>Order ID</th>\n",
       "      <th>Order Date</th>\n",
       "      <th>Ship Date</th>\n",
       "      <th>Ship Mode</th>\n",
       "      <th>Customer ID</th>\n",
       "      <th>Customer Name</th>\n",
       "      <th>Segment</th>\n",
       "      <th>Country</th>\n",
       "      <th>City</th>\n",
       "      <th>State</th>\n",
       "      <th>Postal Code</th>\n",
       "      <th>Region</th>\n",
       "      <th>Product ID</th>\n",
       "      <th>Category</th>\n",
       "      <th>Sub-Category</th>\n",
       "      <th>Product Name</th>\n",
       "      <th>Sales</th>\n",
       "    </tr>\n",
       "    <tr>\n",
       "      <th>Row ID</th>\n",
       "      <th></th>\n",
       "      <th></th>\n",
       "      <th></th>\n",
       "      <th></th>\n",
       "      <th></th>\n",
       "      <th></th>\n",
       "      <th></th>\n",
       "      <th></th>\n",
       "      <th></th>\n",
       "      <th></th>\n",
       "      <th></th>\n",
       "      <th></th>\n",
       "      <th></th>\n",
       "      <th></th>\n",
       "      <th></th>\n",
       "      <th></th>\n",
       "      <th></th>\n",
       "    </tr>\n",
       "  </thead>\n",
       "  <tbody>\n",
       "    <tr>\n",
       "      <th>1</th>\n",
       "      <td>CA-2017-152156</td>\n",
       "      <td>2017-11-08</td>\n",
       "      <td>2017-11-11</td>\n",
       "      <td>Second Class</td>\n",
       "      <td>CG-12520</td>\n",
       "      <td>Claire Gute</td>\n",
       "      <td>Consumer</td>\n",
       "      <td>United States</td>\n",
       "      <td>Henderson</td>\n",
       "      <td>Kentucky</td>\n",
       "      <td>42420.0</td>\n",
       "      <td>South</td>\n",
       "      <td>FUR-BO-10001798</td>\n",
       "      <td>Furniture</td>\n",
       "      <td>Bookcases</td>\n",
       "      <td>Bush Somerset Collection Bookcase</td>\n",
       "      <td>261.9600</td>\n",
       "    </tr>\n",
       "    <tr>\n",
       "      <th>2</th>\n",
       "      <td>CA-2017-152156</td>\n",
       "      <td>2017-11-08</td>\n",
       "      <td>2017-11-11</td>\n",
       "      <td>Second Class</td>\n",
       "      <td>CG-12520</td>\n",
       "      <td>Claire Gute</td>\n",
       "      <td>Consumer</td>\n",
       "      <td>United States</td>\n",
       "      <td>Henderson</td>\n",
       "      <td>Kentucky</td>\n",
       "      <td>42420.0</td>\n",
       "      <td>South</td>\n",
       "      <td>FUR-CH-10000454</td>\n",
       "      <td>Furniture</td>\n",
       "      <td>Chairs</td>\n",
       "      <td>Hon Deluxe Fabric Upholstered Stacking Chairs,...</td>\n",
       "      <td>731.9400</td>\n",
       "    </tr>\n",
       "    <tr>\n",
       "      <th>3</th>\n",
       "      <td>CA-2017-138688</td>\n",
       "      <td>2017-06-12</td>\n",
       "      <td>2017-06-16</td>\n",
       "      <td>Second Class</td>\n",
       "      <td>DV-13045</td>\n",
       "      <td>Darrin Van Huff</td>\n",
       "      <td>Corporate</td>\n",
       "      <td>United States</td>\n",
       "      <td>Los Angeles</td>\n",
       "      <td>California</td>\n",
       "      <td>90036.0</td>\n",
       "      <td>West</td>\n",
       "      <td>OFF-LA-10000240</td>\n",
       "      <td>Office Supplies</td>\n",
       "      <td>Labels</td>\n",
       "      <td>Self-Adhesive Address Labels for Typewriters b...</td>\n",
       "      <td>14.6200</td>\n",
       "    </tr>\n",
       "    <tr>\n",
       "      <th>4</th>\n",
       "      <td>US-2016-108966</td>\n",
       "      <td>2016-10-11</td>\n",
       "      <td>2016-10-18</td>\n",
       "      <td>Standard Class</td>\n",
       "      <td>SO-20335</td>\n",
       "      <td>Sean O'Donnell</td>\n",
       "      <td>Consumer</td>\n",
       "      <td>United States</td>\n",
       "      <td>Fort Lauderdale</td>\n",
       "      <td>Florida</td>\n",
       "      <td>33311.0</td>\n",
       "      <td>South</td>\n",
       "      <td>FUR-TA-10000577</td>\n",
       "      <td>Furniture</td>\n",
       "      <td>Tables</td>\n",
       "      <td>Bretford CR4500 Series Slim Rectangular Table</td>\n",
       "      <td>957.5775</td>\n",
       "    </tr>\n",
       "    <tr>\n",
       "      <th>5</th>\n",
       "      <td>US-2016-108966</td>\n",
       "      <td>2016-10-11</td>\n",
       "      <td>2016-10-18</td>\n",
       "      <td>Standard Class</td>\n",
       "      <td>SO-20335</td>\n",
       "      <td>Sean O'Donnell</td>\n",
       "      <td>Consumer</td>\n",
       "      <td>United States</td>\n",
       "      <td>Fort Lauderdale</td>\n",
       "      <td>Florida</td>\n",
       "      <td>33311.0</td>\n",
       "      <td>South</td>\n",
       "      <td>OFF-ST-10000760</td>\n",
       "      <td>Office Supplies</td>\n",
       "      <td>Storage</td>\n",
       "      <td>Eldon Fold 'N Roll Cart System</td>\n",
       "      <td>22.3680</td>\n",
       "    </tr>\n",
       "    <tr>\n",
       "      <th>...</th>\n",
       "      <td>...</td>\n",
       "      <td>...</td>\n",
       "      <td>...</td>\n",
       "      <td>...</td>\n",
       "      <td>...</td>\n",
       "      <td>...</td>\n",
       "      <td>...</td>\n",
       "      <td>...</td>\n",
       "      <td>...</td>\n",
       "      <td>...</td>\n",
       "      <td>...</td>\n",
       "      <td>...</td>\n",
       "      <td>...</td>\n",
       "      <td>...</td>\n",
       "      <td>...</td>\n",
       "      <td>...</td>\n",
       "      <td>...</td>\n",
       "    </tr>\n",
       "    <tr>\n",
       "      <th>9796</th>\n",
       "      <td>CA-2017-125920</td>\n",
       "      <td>2017-05-21</td>\n",
       "      <td>2017-05-28</td>\n",
       "      <td>Standard Class</td>\n",
       "      <td>SH-19975</td>\n",
       "      <td>Sally Hughsby</td>\n",
       "      <td>Corporate</td>\n",
       "      <td>United States</td>\n",
       "      <td>Chicago</td>\n",
       "      <td>Illinois</td>\n",
       "      <td>60610.0</td>\n",
       "      <td>Central</td>\n",
       "      <td>OFF-BI-10003429</td>\n",
       "      <td>Office Supplies</td>\n",
       "      <td>Binders</td>\n",
       "      <td>Cardinal HOLDit! Binder Insert Strips,Extra St...</td>\n",
       "      <td>3.7980</td>\n",
       "    </tr>\n",
       "    <tr>\n",
       "      <th>9797</th>\n",
       "      <td>CA-2016-128608</td>\n",
       "      <td>2016-01-12</td>\n",
       "      <td>2016-01-17</td>\n",
       "      <td>Standard Class</td>\n",
       "      <td>CS-12490</td>\n",
       "      <td>Cindy Schnelling</td>\n",
       "      <td>Corporate</td>\n",
       "      <td>United States</td>\n",
       "      <td>Toledo</td>\n",
       "      <td>Ohio</td>\n",
       "      <td>43615.0</td>\n",
       "      <td>East</td>\n",
       "      <td>OFF-AR-10001374</td>\n",
       "      <td>Office Supplies</td>\n",
       "      <td>Art</td>\n",
       "      <td>BIC Brite Liner Highlighters, Chisel Tip</td>\n",
       "      <td>10.3680</td>\n",
       "    </tr>\n",
       "    <tr>\n",
       "      <th>9798</th>\n",
       "      <td>CA-2016-128608</td>\n",
       "      <td>2016-01-12</td>\n",
       "      <td>2016-01-17</td>\n",
       "      <td>Standard Class</td>\n",
       "      <td>CS-12490</td>\n",
       "      <td>Cindy Schnelling</td>\n",
       "      <td>Corporate</td>\n",
       "      <td>United States</td>\n",
       "      <td>Toledo</td>\n",
       "      <td>Ohio</td>\n",
       "      <td>43615.0</td>\n",
       "      <td>East</td>\n",
       "      <td>TEC-PH-10004977</td>\n",
       "      <td>Technology</td>\n",
       "      <td>Phones</td>\n",
       "      <td>GE 30524EE4</td>\n",
       "      <td>235.1880</td>\n",
       "    </tr>\n",
       "    <tr>\n",
       "      <th>9799</th>\n",
       "      <td>CA-2016-128608</td>\n",
       "      <td>2016-01-12</td>\n",
       "      <td>2016-01-17</td>\n",
       "      <td>Standard Class</td>\n",
       "      <td>CS-12490</td>\n",
       "      <td>Cindy Schnelling</td>\n",
       "      <td>Corporate</td>\n",
       "      <td>United States</td>\n",
       "      <td>Toledo</td>\n",
       "      <td>Ohio</td>\n",
       "      <td>43615.0</td>\n",
       "      <td>East</td>\n",
       "      <td>TEC-PH-10000912</td>\n",
       "      <td>Technology</td>\n",
       "      <td>Phones</td>\n",
       "      <td>Anker 24W Portable Micro USB Car Charger</td>\n",
       "      <td>26.3760</td>\n",
       "    </tr>\n",
       "    <tr>\n",
       "      <th>9800</th>\n",
       "      <td>CA-2016-128608</td>\n",
       "      <td>2016-01-12</td>\n",
       "      <td>2016-01-17</td>\n",
       "      <td>Standard Class</td>\n",
       "      <td>CS-12490</td>\n",
       "      <td>Cindy Schnelling</td>\n",
       "      <td>Corporate</td>\n",
       "      <td>United States</td>\n",
       "      <td>Toledo</td>\n",
       "      <td>Ohio</td>\n",
       "      <td>43615.0</td>\n",
       "      <td>East</td>\n",
       "      <td>TEC-AC-10000487</td>\n",
       "      <td>Technology</td>\n",
       "      <td>Accessories</td>\n",
       "      <td>SanDisk Cruzer 4 GB USB Flash Drive</td>\n",
       "      <td>10.3840</td>\n",
       "    </tr>\n",
       "  </tbody>\n",
       "</table>\n",
       "<p>9799 rows × 17 columns</p>\n",
       "</div>"
      ],
      "text/plain": [
       "              Order ID Order Date  Ship Date       Ship Mode Customer ID  \\\n",
       "Row ID                                                                     \n",
       "1       CA-2017-152156 2017-11-08 2017-11-11    Second Class    CG-12520   \n",
       "2       CA-2017-152156 2017-11-08 2017-11-11    Second Class    CG-12520   \n",
       "3       CA-2017-138688 2017-06-12 2017-06-16    Second Class    DV-13045   \n",
       "4       US-2016-108966 2016-10-11 2016-10-18  Standard Class    SO-20335   \n",
       "5       US-2016-108966 2016-10-11 2016-10-18  Standard Class    SO-20335   \n",
       "...                ...        ...        ...             ...         ...   \n",
       "9796    CA-2017-125920 2017-05-21 2017-05-28  Standard Class    SH-19975   \n",
       "9797    CA-2016-128608 2016-01-12 2016-01-17  Standard Class    CS-12490   \n",
       "9798    CA-2016-128608 2016-01-12 2016-01-17  Standard Class    CS-12490   \n",
       "9799    CA-2016-128608 2016-01-12 2016-01-17  Standard Class    CS-12490   \n",
       "9800    CA-2016-128608 2016-01-12 2016-01-17  Standard Class    CS-12490   \n",
       "\n",
       "           Customer Name    Segment        Country             City  \\\n",
       "Row ID                                                                \n",
       "1            Claire Gute   Consumer  United States        Henderson   \n",
       "2            Claire Gute   Consumer  United States        Henderson   \n",
       "3        Darrin Van Huff  Corporate  United States      Los Angeles   \n",
       "4         Sean O'Donnell   Consumer  United States  Fort Lauderdale   \n",
       "5         Sean O'Donnell   Consumer  United States  Fort Lauderdale   \n",
       "...                  ...        ...            ...              ...   \n",
       "9796       Sally Hughsby  Corporate  United States          Chicago   \n",
       "9797    Cindy Schnelling  Corporate  United States           Toledo   \n",
       "9798    Cindy Schnelling  Corporate  United States           Toledo   \n",
       "9799    Cindy Schnelling  Corporate  United States           Toledo   \n",
       "9800    Cindy Schnelling  Corporate  United States           Toledo   \n",
       "\n",
       "             State  Postal Code   Region       Product ID         Category  \\\n",
       "Row ID                                                                       \n",
       "1         Kentucky      42420.0    South  FUR-BO-10001798        Furniture   \n",
       "2         Kentucky      42420.0    South  FUR-CH-10000454        Furniture   \n",
       "3       California      90036.0     West  OFF-LA-10000240  Office Supplies   \n",
       "4          Florida      33311.0    South  FUR-TA-10000577        Furniture   \n",
       "5          Florida      33311.0    South  OFF-ST-10000760  Office Supplies   \n",
       "...            ...          ...      ...              ...              ...   \n",
       "9796      Illinois      60610.0  Central  OFF-BI-10003429  Office Supplies   \n",
       "9797          Ohio      43615.0     East  OFF-AR-10001374  Office Supplies   \n",
       "9798          Ohio      43615.0     East  TEC-PH-10004977       Technology   \n",
       "9799          Ohio      43615.0     East  TEC-PH-10000912       Technology   \n",
       "9800          Ohio      43615.0     East  TEC-AC-10000487       Technology   \n",
       "\n",
       "       Sub-Category                                       Product Name  \\\n",
       "Row ID                                                                   \n",
       "1         Bookcases                  Bush Somerset Collection Bookcase   \n",
       "2            Chairs  Hon Deluxe Fabric Upholstered Stacking Chairs,...   \n",
       "3            Labels  Self-Adhesive Address Labels for Typewriters b...   \n",
       "4            Tables      Bretford CR4500 Series Slim Rectangular Table   \n",
       "5           Storage                     Eldon Fold 'N Roll Cart System   \n",
       "...             ...                                                ...   \n",
       "9796        Binders  Cardinal HOLDit! Binder Insert Strips,Extra St...   \n",
       "9797            Art           BIC Brite Liner Highlighters, Chisel Tip   \n",
       "9798         Phones                                        GE 30524EE4   \n",
       "9799         Phones           Anker 24W Portable Micro USB Car Charger   \n",
       "9800    Accessories                SanDisk Cruzer 4 GB USB Flash Drive   \n",
       "\n",
       "           Sales  \n",
       "Row ID            \n",
       "1       261.9600  \n",
       "2       731.9400  \n",
       "3        14.6200  \n",
       "4       957.5775  \n",
       "5        22.3680  \n",
       "...          ...  \n",
       "9796      3.7980  \n",
       "9797     10.3680  \n",
       "9798    235.1880  \n",
       "9799     26.3760  \n",
       "9800     10.3840  \n",
       "\n",
       "[9799 rows x 17 columns]"
      ]
     },
     "execution_count": 21,
     "metadata": {},
     "output_type": "execute_result"
    }
   ],
   "source": [
    "df"
   ]
  },
  {
   "cell_type": "code",
   "execution_count": 22,
   "id": "11fe74f0",
   "metadata": {},
   "outputs": [
    {
     "data": {
      "text/plain": [
       "0"
      ]
     },
     "execution_count": 22,
     "metadata": {},
     "output_type": "execute_result"
    }
   ],
   "source": [
    "df.duplicated().sum()"
   ]
  },
  {
   "cell_type": "code",
   "execution_count": 23,
   "id": "3dc5fcfc",
   "metadata": {},
   "outputs": [],
   "source": [
    "# The duplicates has been removed"
   ]
  },
  {
   "cell_type": "markdown",
   "id": "0dd0462a",
   "metadata": {},
   "source": [
    "● Give a quick statistical description of numerical contents in the dataset."
   ]
  },
  {
   "cell_type": "code",
   "execution_count": 24,
   "id": "464e82c1",
   "metadata": {
    "scrolled": true
   },
   "outputs": [
    {
     "data": {
      "text/html": [
       "<div>\n",
       "<style scoped>\n",
       "    .dataframe tbody tr th:only-of-type {\n",
       "        vertical-align: middle;\n",
       "    }\n",
       "\n",
       "    .dataframe tbody tr th {\n",
       "        vertical-align: top;\n",
       "    }\n",
       "\n",
       "    .dataframe thead th {\n",
       "        text-align: right;\n",
       "    }\n",
       "</style>\n",
       "<table border=\"1\" class=\"dataframe\">\n",
       "  <thead>\n",
       "    <tr style=\"text-align: right;\">\n",
       "      <th></th>\n",
       "      <th>Order Date</th>\n",
       "      <th>Ship Date</th>\n",
       "      <th>Postal Code</th>\n",
       "      <th>Sales</th>\n",
       "    </tr>\n",
       "  </thead>\n",
       "  <tbody>\n",
       "    <tr>\n",
       "      <th>count</th>\n",
       "      <td>9799</td>\n",
       "      <td>9799</td>\n",
       "      <td>9799.000000</td>\n",
       "      <td>9799.000000</td>\n",
       "    </tr>\n",
       "    <tr>\n",
       "      <th>mean</th>\n",
       "      <td>2017-05-01 07:02:29.525461760</td>\n",
       "      <td>2017-05-05 06:06:30.162261504</td>\n",
       "      <td>55243.056536</td>\n",
       "      <td>230.763895</td>\n",
       "    </tr>\n",
       "    <tr>\n",
       "      <th>min</th>\n",
       "      <td>2015-01-03 00:00:00</td>\n",
       "      <td>2015-01-07 00:00:00</td>\n",
       "      <td>1040.000000</td>\n",
       "      <td>0.444000</td>\n",
       "    </tr>\n",
       "    <tr>\n",
       "      <th>25%</th>\n",
       "      <td>2016-05-24 12:00:00</td>\n",
       "      <td>2016-05-28 00:00:00</td>\n",
       "      <td>23223.000000</td>\n",
       "      <td>17.248000</td>\n",
       "    </tr>\n",
       "    <tr>\n",
       "      <th>50%</th>\n",
       "      <td>2017-06-26 00:00:00</td>\n",
       "      <td>2017-06-29 00:00:00</td>\n",
       "      <td>57701.000000</td>\n",
       "      <td>54.480000</td>\n",
       "    </tr>\n",
       "    <tr>\n",
       "      <th>75%</th>\n",
       "      <td>2018-05-15 00:00:00</td>\n",
       "      <td>2018-05-19 00:00:00</td>\n",
       "      <td>90008.000000</td>\n",
       "      <td>210.572000</td>\n",
       "    </tr>\n",
       "    <tr>\n",
       "      <th>max</th>\n",
       "      <td>2018-12-30 00:00:00</td>\n",
       "      <td>2019-01-05 00:00:00</td>\n",
       "      <td>99301.000000</td>\n",
       "      <td>22638.480000</td>\n",
       "    </tr>\n",
       "    <tr>\n",
       "      <th>std</th>\n",
       "      <td>NaN</td>\n",
       "      <td>NaN</td>\n",
       "      <td>32038.417479</td>\n",
       "      <td>626.683644</td>\n",
       "    </tr>\n",
       "  </tbody>\n",
       "</table>\n",
       "</div>"
      ],
      "text/plain": [
       "                          Order Date                      Ship Date  \\\n",
       "count                           9799                           9799   \n",
       "mean   2017-05-01 07:02:29.525461760  2017-05-05 06:06:30.162261504   \n",
       "min              2015-01-03 00:00:00            2015-01-07 00:00:00   \n",
       "25%              2016-05-24 12:00:00            2016-05-28 00:00:00   \n",
       "50%              2017-06-26 00:00:00            2017-06-29 00:00:00   \n",
       "75%              2018-05-15 00:00:00            2018-05-19 00:00:00   \n",
       "max              2018-12-30 00:00:00            2019-01-05 00:00:00   \n",
       "std                              NaN                            NaN   \n",
       "\n",
       "        Postal Code         Sales  \n",
       "count   9799.000000   9799.000000  \n",
       "mean   55243.056536    230.763895  \n",
       "min     1040.000000      0.444000  \n",
       "25%    23223.000000     17.248000  \n",
       "50%    57701.000000     54.480000  \n",
       "75%    90008.000000    210.572000  \n",
       "max    99301.000000  22638.480000  \n",
       "std    32038.417479    626.683644  "
      ]
     },
     "execution_count": 24,
     "metadata": {},
     "output_type": "execute_result"
    }
   ],
   "source": [
    "df.describe() "
   ]
  },
  {
   "cell_type": "markdown",
   "id": "336433d6",
   "metadata": {},
   "source": [
    "#### Order Statistics:\n",
    "● How many unique orders are there in the dataset?\n",
    "\n",
    "● What is the distribution of order statuses (e.g., delivered, pending)?\n",
    "\n",
    "● How many unique customers are there?\n"
   ]
  },
  {
   "cell_type": "code",
   "execution_count": 25,
   "id": "979390a3",
   "metadata": {},
   "outputs": [
    {
     "data": {
      "text/plain": [
       "4922"
      ]
     },
     "execution_count": 25,
     "metadata": {},
     "output_type": "execute_result"
    }
   ],
   "source": [
    "df['Order ID'].nunique() # How many unique orders are there in the dataset?"
   ]
  },
  {
   "cell_type": "markdown",
   "id": "edf7d71f",
   "metadata": {},
   "source": [
    "<b>Answer:</b> we have 4922 unique orders in the dataset"
   ]
  },
  {
   "cell_type": "markdown",
   "id": "a45e2128",
   "metadata": {},
   "source": [
    "● What is the distribution of order statuses (e.g., delivered, pending)?"
   ]
  },
  {
   "cell_type": "markdown",
   "id": "069f7a91",
   "metadata": {},
   "source": [
    "<b>Answer:</b> The Dataset does not contain order statuses"
   ]
  },
  {
   "cell_type": "markdown",
   "id": "d07ea823",
   "metadata": {},
   "source": [
    "● How many unique customers are there?"
   ]
  },
  {
   "cell_type": "code",
   "execution_count": 26,
   "id": "4474408a",
   "metadata": {},
   "outputs": [
    {
     "data": {
      "text/plain": [
       "793"
      ]
     },
     "execution_count": 26,
     "metadata": {},
     "output_type": "execute_result"
    }
   ],
   "source": [
    "df['Customer ID'].nunique()"
   ]
  },
  {
   "cell_type": "markdown",
   "id": "dac68c08",
   "metadata": {},
   "source": [
    "<b>Answer</b>: we have 793 unique customers in the dataset"
   ]
  },
  {
   "cell_type": "markdown",
   "id": "d0b806b1",
   "metadata": {},
   "source": [
    "#### Geographical Insights:\n",
    "\n",
    "● Which countries are included in the dataset?\n",
    "\n",
    "● What is the distribution of orders across different regions?\n",
    "\n",
    "● Can you identify the top 5 cities with the highest number of orders?\n"
   ]
  },
  {
   "cell_type": "code",
   "execution_count": 27,
   "id": "1dbc3477",
   "metadata": {},
   "outputs": [
    {
     "data": {
      "text/plain": [
       "array(['United States'], dtype=object)"
      ]
     },
     "execution_count": 27,
     "metadata": {},
     "output_type": "execute_result"
    }
   ],
   "source": [
    "df['Country'].unique() # United State is the only country included in the dataset"
   ]
  },
  {
   "cell_type": "code",
   "execution_count": 28,
   "id": "5f9c1004",
   "metadata": {},
   "outputs": [
    {
     "data": {
      "text/plain": [
       "Region\n",
       "Central    2277\n",
       "East       2784\n",
       "South      1598\n",
       "West       3140\n",
       "Name: Order ID, dtype: int64"
      ]
     },
     "execution_count": 28,
     "metadata": {},
     "output_type": "execute_result"
    }
   ],
   "source": [
    "df.groupby('Region')['Order ID'].count() # What is the distribution of orders across different regions?"
   ]
  },
  {
   "cell_type": "code",
   "execution_count": 29,
   "id": "059c7301",
   "metadata": {},
   "outputs": [
    {
     "data": {
      "text/plain": [
       "Text(0.5, 1.0, 'Distribution of orders across different regions')"
      ]
     },
     "execution_count": 29,
     "metadata": {},
     "output_type": "execute_result"
    },
    {
     "data": {
      "image/png": "[encoded data removed]",
      "text/plain": [
       "<Figure size 640x480 with 1 Axes>"
      ]
     },
     "metadata": {},
     "output_type": "display_data"
    }
   ],
   "source": [
    "sns.countplot(data=df, x=df['Region'])\n",
    "plt.title('Distribution of orders across different regions')"
   ]
  },
  {
   "cell_type": "markdown",
   "id": "fb5287b3",
   "metadata": {},
   "source": [
    "* the distribution of orders across different regions are: Central: 2277, East: 2784, South: 1598, West: 3140"
   ]
  },
  {
   "cell_type": "code",
   "execution_count": 30,
   "id": "e556499e",
   "metadata": {},
   "outputs": [
    {
     "data": {
      "text/html": [
       "<div>\n",
       "<style scoped>\n",
       "    .dataframe tbody tr th:only-of-type {\n",
       "        vertical-align: middle;\n",
       "    }\n",
       "\n",
       "    .dataframe tbody tr th {\n",
       "        vertical-align: top;\n",
       "    }\n",
       "\n",
       "    .dataframe thead th {\n",
       "        text-align: right;\n",
       "    }\n",
       "</style>\n",
       "<table border=\"1\" class=\"dataframe\">\n",
       "  <thead>\n",
       "    <tr style=\"text-align: right;\">\n",
       "      <th></th>\n",
       "      <th>City</th>\n",
       "      <th>count</th>\n",
       "    </tr>\n",
       "  </thead>\n",
       "  <tbody>\n",
       "    <tr>\n",
       "      <th>0</th>\n",
       "      <td>New York City</td>\n",
       "      <td>891</td>\n",
       "    </tr>\n",
       "    <tr>\n",
       "      <th>1</th>\n",
       "      <td>Los Angeles</td>\n",
       "      <td>728</td>\n",
       "    </tr>\n",
       "    <tr>\n",
       "      <th>2</th>\n",
       "      <td>Philadelphia</td>\n",
       "      <td>532</td>\n",
       "    </tr>\n",
       "    <tr>\n",
       "      <th>3</th>\n",
       "      <td>San Francisco</td>\n",
       "      <td>500</td>\n",
       "    </tr>\n",
       "    <tr>\n",
       "      <th>4</th>\n",
       "      <td>Seattle</td>\n",
       "      <td>426</td>\n",
       "    </tr>\n",
       "  </tbody>\n",
       "</table>\n",
       "</div>"
      ],
      "text/plain": [
       "            City  count\n",
       "0  New York City    891\n",
       "1    Los Angeles    728\n",
       "2   Philadelphia    532\n",
       "3  San Francisco    500\n",
       "4        Seattle    426"
      ]
     },
     "execution_count": 30,
     "metadata": {},
     "output_type": "execute_result"
    }
   ],
   "source": [
    "top5_cities = df['City'].value_counts().reset_index().head(5) #the top 5 cities with the highest number of orders?\n",
    "top5_cities"
   ]
  },
  {
   "cell_type": "code",
   "execution_count": 54,
   "id": "d96c6bba",
   "metadata": {},
   "outputs": [
    {
     "data": {
      "text/plain": [
       "Text(0.5, 1.0, 'Top 5 cities with highest order')"
      ]
     },
     "execution_count": 54,
     "metadata": {},
     "output_type": "execute_result"
    },
    {
     "data": {
      "image/png": "[encoded data removed]",
      "text/plain": [
       "<Figure size 640x480 with 1 Axes>"
      ]
     },
     "metadata": {},
     "output_type": "display_data"
    }
   ],
   "source": [
    "sns.barplot(x='City', y='count', data=top5_cities)\n",
    "plt.title('Top 5 cities with highest order')"
   ]
  },
  {
   "cell_type": "markdown",
   "id": "60a7904f",
   "metadata": {},
   "source": [
    "#### Product Categories:\n",
    "\n",
    "● How many unique product categories are there?\n",
    "\n",
    "● What are the most popular product categories based on sales?\n",
    "\n",
    "● Can you identify the top 5 selling products?\n"
   ]
  },
  {
   "cell_type": "code",
   "execution_count": 32,
   "id": "5a994869",
   "metadata": {},
   "outputs": [
    {
     "data": {
      "text/plain": [
       "array(['Furniture', 'Office Supplies', 'Technology'], dtype=object)"
      ]
     },
     "execution_count": 32,
     "metadata": {},
     "output_type": "execute_result"
    }
   ],
   "source": [
    "df['Category'].unique()# How many unique product categories are there?"
   ]
  },
  {
   "cell_type": "code",
   "execution_count": 33,
   "id": "7b543f7d",
   "metadata": {},
   "outputs": [
    {
     "data": {
      "text/plain": [
       "3"
      ]
     },
     "execution_count": 33,
     "metadata": {},
     "output_type": "execute_result"
    }
   ],
   "source": [
    "df['Category'].nunique() # There are 3 unique product categories 'Furniture', 'Office Supplies', 'Technology'"
   ]
  },
  {
   "cell_type": "code",
   "execution_count": 34,
   "id": "33d5c595",
   "metadata": {},
   "outputs": [
    {
     "data": {
      "text/html": [
       "<div>\n",
       "<style scoped>\n",
       "    .dataframe tbody tr th:only-of-type {\n",
       "        vertical-align: middle;\n",
       "    }\n",
       "\n",
       "    .dataframe tbody tr th {\n",
       "        vertical-align: top;\n",
       "    }\n",
       "\n",
       "    .dataframe thead th {\n",
       "        text-align: right;\n",
       "    }\n",
       "</style>\n",
       "<table border=\"1\" class=\"dataframe\">\n",
       "  <thead>\n",
       "    <tr style=\"text-align: right;\">\n",
       "      <th></th>\n",
       "      <th>Category</th>\n",
       "      <th>count</th>\n",
       "    </tr>\n",
       "  </thead>\n",
       "  <tbody>\n",
       "    <tr>\n",
       "      <th>0</th>\n",
       "      <td>Office Supplies</td>\n",
       "      <td>5909</td>\n",
       "    </tr>\n",
       "    <tr>\n",
       "      <th>1</th>\n",
       "      <td>Furniture</td>\n",
       "      <td>2077</td>\n",
       "    </tr>\n",
       "    <tr>\n",
       "      <th>2</th>\n",
       "      <td>Technology</td>\n",
       "      <td>1813</td>\n",
       "    </tr>\n",
       "  </tbody>\n",
       "</table>\n",
       "</div>"
      ],
      "text/plain": [
       "          Category  count\n",
       "0  Office Supplies   5909\n",
       "1        Furniture   2077\n",
       "2       Technology   1813"
      ]
     },
     "execution_count": 34,
     "metadata": {},
     "output_type": "execute_result"
    }
   ],
   "source": [
    "most_pop = df['Category'].value_counts().reset_index() #What are the most popular product categories based on sales?\n",
    "most_pop"
   ]
  },
  {
   "cell_type": "code",
   "execution_count": 35,
   "id": "2f69908c",
   "metadata": {},
   "outputs": [
    {
     "data": {
      "image/png": "[encoded data removed]",
      "text/plain": [
       "<Figure size 640x480 with 1 Axes>"
      ]
     },
     "metadata": {},
     "output_type": "display_data"
    }
   ],
   "source": [
    "sns.barplot(x='Category', y='count', data=most_pop)\n",
    "plt.title('Most popular product categories based on sales')\n",
    "plt.tick_params(axis='x', rotation=45)"
   ]
  },
  {
   "cell_type": "code",
   "execution_count": 36,
   "id": "9dc8b2e1",
   "metadata": {},
   "outputs": [
    {
     "data": {
      "text/html": [
       "<div>\n",
       "<style scoped>\n",
       "    .dataframe tbody tr th:only-of-type {\n",
       "        vertical-align: middle;\n",
       "    }\n",
       "\n",
       "    .dataframe tbody tr th {\n",
       "        vertical-align: top;\n",
       "    }\n",
       "\n",
       "    .dataframe thead th {\n",
       "        text-align: right;\n",
       "    }\n",
       "</style>\n",
       "<table border=\"1\" class=\"dataframe\">\n",
       "  <thead>\n",
       "    <tr style=\"text-align: right;\">\n",
       "      <th></th>\n",
       "      <th>Product Name</th>\n",
       "      <th>count</th>\n",
       "    </tr>\n",
       "  </thead>\n",
       "  <tbody>\n",
       "    <tr>\n",
       "      <th>0</th>\n",
       "      <td>Staple envelope</td>\n",
       "      <td>47</td>\n",
       "    </tr>\n",
       "    <tr>\n",
       "      <th>1</th>\n",
       "      <td>Staples</td>\n",
       "      <td>46</td>\n",
       "    </tr>\n",
       "    <tr>\n",
       "      <th>2</th>\n",
       "      <td>Easy-staple paper</td>\n",
       "      <td>44</td>\n",
       "    </tr>\n",
       "    <tr>\n",
       "      <th>3</th>\n",
       "      <td>Avery Non-Stick Binders</td>\n",
       "      <td>20</td>\n",
       "    </tr>\n",
       "    <tr>\n",
       "      <th>4</th>\n",
       "      <td>Staples in misc. colors</td>\n",
       "      <td>18</td>\n",
       "    </tr>\n",
       "    <tr>\n",
       "      <th>5</th>\n",
       "      <td>Staple remover</td>\n",
       "      <td>18</td>\n",
       "    </tr>\n",
       "  </tbody>\n",
       "</table>\n",
       "</div>"
      ],
      "text/plain": [
       "              Product Name  count\n",
       "0          Staple envelope     47\n",
       "1                  Staples     46\n",
       "2        Easy-staple paper     44\n",
       "3  Avery Non-Stick Binders     20\n",
       "4  Staples in misc. colors     18\n",
       "5           Staple remover     18"
      ]
     },
     "execution_count": 36,
     "metadata": {},
     "output_type": "execute_result"
    }
   ],
   "source": [
    "top5_selling_prod = df['Product Name'].value_counts().reset_index().head(6) #Can you identify the top 5 selling products?\n",
    "top5_selling_prod"
   ]
  },
  {
   "cell_type": "code",
   "execution_count": 37,
   "id": "9a5dd8dd",
   "metadata": {},
   "outputs": [
    {
     "data": {
      "image/png": "[encoded data removed]",
      "text/plain": [
       "<Figure size 640x480 with 1 Axes>"
      ]
     },
     "metadata": {},
     "output_type": "display_data"
    }
   ],
   "source": [
    "sns.barplot(x='Product Name', y='count', data=top5_selling_prod)\n",
    "plt.title('Top 5 selling products')\n",
    "plt.tick_params(axis='x', rotation=45)"
   ]
  },
  {
   "cell_type": "markdown",
   "id": "15d1c3b1",
   "metadata": {},
   "source": [
    "#### Customer Segmentation:\n",
    "\n",
    "● How are customers segmented based on the \"Segment\" column?\n",
    "\n",
    "● What is the average order value for each customer segment?\n"
   ]
  },
  {
   "cell_type": "code",
   "execution_count": 38,
   "id": "a9fc25a6",
   "metadata": {},
   "outputs": [
    {
     "data": {
      "text/plain": [
       "Segment\n",
       "Consumer       5101\n",
       "Corporate      2953\n",
       "Home Office    1745\n",
       "Name: count, dtype: int64"
      ]
     },
     "execution_count": 38,
     "metadata": {},
     "output_type": "execute_result"
    }
   ],
   "source": [
    "df['Segment'].value_counts() #How are customers segmented based on the \"Segment\" column?"
   ]
  },
  {
   "cell_type": "code",
   "execution_count": 55,
   "id": "5774fc7f",
   "metadata": {},
   "outputs": [
    {
     "data": {
      "text/plain": [
       "Text(0.5, 1.0, 'customers segmented based on the \"Segment\" column')"
      ]
     },
     "execution_count": 55,
     "metadata": {},
     "output_type": "execute_result"
    },
    {
     "data": {
      "image/png": "[encoded data removed]",
      "text/plain": [
       "<Figure size 640x480 with 1 Axes>"
      ]
     },
     "metadata": {},
     "output_type": "display_data"
    }
   ],
   "source": [
    "sns.countplot(data=df, x=df['Segment'])\n",
    "plt.title('customers segmented based on the \"Segment\" column')\n"
   ]
  },
  {
   "cell_type": "code",
   "execution_count": 40,
   "id": "7c65381f",
   "metadata": {
    "scrolled": true
   },
   "outputs": [
    {
     "data": {
      "text/plain": [
       "Segment\n",
       "Consumer       225.065777\n",
       "Corporate      233.150720\n",
       "Home Office    243.381550\n",
       "Name: Sales, dtype: float64"
      ]
     },
     "execution_count": 40,
     "metadata": {},
     "output_type": "execute_result"
    }
   ],
   "source": [
    "df.groupby(['Segment'])['Sales'].mean() # What is the average order value for each customer segment?"
   ]
  },
  {
   "cell_type": "markdown",
   "id": "a3f4efe0",
   "metadata": {},
   "source": [
    "#### Shipping Insights:\n",
    "\n",
    "● What are the different shipping modes available?\n",
    "\n",
    "● How does the shipping mode relate to the order date and delivery date?\n",
    "\n",
    "● Are there any patterns in shipping modes based on regions?\n"
   ]
  },
  {
   "cell_type": "code",
   "execution_count": 41,
   "id": "9b90663a",
   "metadata": {},
   "outputs": [
    {
     "data": {
      "text/plain": [
       "array(['Second Class', 'Standard Class', 'First Class', 'Same Day'],\n",
       "      dtype=object)"
      ]
     },
     "execution_count": 41,
     "metadata": {},
     "output_type": "execute_result"
    }
   ],
   "source": [
    "df['Ship Mode'].unique() # What are the different shipping modes available?"
   ]
  },
  {
   "cell_type": "markdown",
   "id": "4baca44a",
   "metadata": {},
   "source": [
    "● How does the shipping mode relate to the order date and delivery date?"
   ]
  },
  {
   "cell_type": "code",
   "execution_count": 42,
   "id": "8e76d177",
   "metadata": {},
   "outputs": [],
   "source": [
    "# In answering this, we need to create a column named delivery time\n",
    "# Then visualize the segment wih the new column created."
   ]
  },
  {
   "cell_type": "code",
   "execution_count": 43,
   "id": "8ac1143a",
   "metadata": {},
   "outputs": [],
   "source": [
    "# Calculate the time difference between order date and delivery date\n",
    "df['delivery time'] = (df['Ship Date'] - df['Order Date']).dt.days"
   ]
  },
  {
   "cell_type": "code",
   "execution_count": 44,
   "id": "2a9da858",
   "metadata": {},
   "outputs": [
    {
     "data": {
      "image/png": "[encoded data removed]",
      "text/plain": [
       "<Figure size 1000x600 with 1 Axes>"
      ]
     },
     "metadata": {},
     "output_type": "display_data"
    }
   ],
   "source": [
    "# Group by shipping mode and calculate mean delivery time\n",
    "shipping_mode_delivery_time = df.groupby('Ship Mode')['delivery time'].mean().reset_index()\n",
    "shipping_mode_delivery_time\n",
    "\n",
    "# visualise to understand the relationship\n",
    "plt.figure(figsize=(10, 6))\n",
    "#plt.barplot(shipping_mode_delivery_time['Ship Mode'], shipping_mode_delivery_time['delivery time'])\n",
    "sns.barplot(x='Ship Mode', y='delivery time', data=shipping_mode_delivery_time)\n",
    "plt.xlabel('Shipping Mode')\n",
    "plt.ylabel('Average Delivery Time (days)')\n",
    "plt.title('Average Delivery Time vs. Shipping Mode ')\n",
    "plt.show()\n"
   ]
  },
  {
   "cell_type": "markdown",
   "id": "d9e9b268",
   "metadata": {},
   "source": [
    "from the above, we can see that products that are been delivered in the same day has lesser delivery time than products that we delivered using the standard class which took an average of 5 days to be delivered, while that first class and second class took an average of 2 and 3 days respectively to be delivered"
   ]
  },
  {
   "cell_type": "markdown",
   "id": "f5eaf8dc",
   "metadata": {},
   "source": [
    "● Are there any patterns in shipping modes based on regions?"
   ]
  },
  {
   "cell_type": "code",
   "execution_count": 45,
   "id": "093fddfc",
   "metadata": {},
   "outputs": [
    {
     "data": {
      "text/plain": [
       "<matplotlib.legend.Legend at 0x22faec8c590>"
      ]
     },
     "execution_count": 45,
     "metadata": {},
     "output_type": "execute_result"
    },
    {
     "data": {
      "image/png": "[encoded data removed]",
      "text/plain": [
       "<Figure size 640x480 with 1 Axes>"
      ]
     },
     "metadata": {},
     "output_type": "display_data"
    }
   ],
   "source": [
    "sns.countplot(data=df, x=df['Region'], hue='Ship Mode')\n",
    "plt.title('Patterns in shipping modes based on regions')\n",
    "plt.legend(loc='upper left')"
   ]
  },
  {
   "cell_type": "markdown",
   "id": "98a243ae",
   "metadata": {},
   "source": [
    "* we noticed that the standard class shipping mode was used for most of the region, just few was shipped on he same day and his happened for all the regions"
   ]
  },
  {
   "cell_type": "markdown",
   "id": "4fcaafbe",
   "metadata": {},
   "source": [
    "#### Sales Distribution:\n",
    "\n",
    "● What is the overall distribution of sales values?\n",
    "\n",
    "● Are there any outliers in the sales data?\n",
    "\n",
    "● Can you visualize the distribution of sales for each product category?\n"
   ]
  },
  {
   "cell_type": "code",
   "execution_count": 46,
   "id": "f2220b8f",
   "metadata": {
    "scrolled": false
   },
   "outputs": [
    {
     "data": {
      "text/plain": [
       "<Axes: xlabel='Sales', ylabel='Count'>"
      ]
     },
     "execution_count": 46,
     "metadata": {},
     "output_type": "execute_result"
    },
    {
     "data": {
      "image/png": "[encoded data removed]",
      "text/plain": [
       "<Figure size 640x480 with 1 Axes>"
      ]
     },
     "metadata": {},
     "output_type": "display_data"
    }
   ],
   "source": [
    "sns.histplot(df['Sales']) #What is the overall distribution of sales values?"
   ]
  },
  {
   "cell_type": "code",
   "execution_count": 56,
   "id": "57d49c40",
   "metadata": {},
   "outputs": [
    {
     "data": {
      "text/plain": [
       "Text(0.5, 1.0, 'overall distribution of sales values')"
      ]
     },
     "execution_count": 56,
     "metadata": {},
     "output_type": "execute_result"
    },
    {
     "data": {
      "image/png": "[encoded data removed]",
      "text/plain": [
       "<Figure size 640x480 with 1 Axes>"
      ]
     },
     "metadata": {},
     "output_type": "display_data"
    }
   ],
   "source": [
    "sns.histplot(df['Sales'][:100]) #What is the overall distribution of sales values?\n",
    "plt.title('Overall distribution of sales values')"
   ]
  },
  {
   "cell_type": "markdown",
   "id": "741f10a2",
   "metadata": {},
   "source": [
    "The sales data has ouliers \n",
    "\n",
    "It was observed tha most sales values is between 0.44400 which is less than 1 to 1200 sales amount, While not much sales are made above 1200\n",
    "\n",
    "we can say the sales was mostly distributed between 0 USD to 1200 USD"
   ]
  },
  {
   "cell_type": "code",
   "execution_count": 48,
   "id": "da8274f0",
   "metadata": {
    "scrolled": false
   },
   "outputs": [
    {
     "data": {
      "text/html": [
       "<div>\n",
       "<style scoped>\n",
       "    .dataframe tbody tr th:only-of-type {\n",
       "        vertical-align: middle;\n",
       "    }\n",
       "\n",
       "    .dataframe tbody tr th {\n",
       "        vertical-align: top;\n",
       "    }\n",
       "\n",
       "    .dataframe thead th {\n",
       "        text-align: right;\n",
       "    }\n",
       "</style>\n",
       "<table border=\"1\" class=\"dataframe\">\n",
       "  <thead>\n",
       "    <tr style=\"text-align: right;\">\n",
       "      <th></th>\n",
       "      <th>Sales</th>\n",
       "      <th>count</th>\n",
       "    </tr>\n",
       "  </thead>\n",
       "  <tbody>\n",
       "    <tr>\n",
       "      <th>4024</th>\n",
       "      <td>22638.480</td>\n",
       "      <td>1</td>\n",
       "    </tr>\n",
       "    <tr>\n",
       "      <th>1963</th>\n",
       "      <td>17499.950</td>\n",
       "      <td>1</td>\n",
       "    </tr>\n",
       "    <tr>\n",
       "      <th>3739</th>\n",
       "      <td>13999.960</td>\n",
       "      <td>1</td>\n",
       "    </tr>\n",
       "    <tr>\n",
       "      <th>3980</th>\n",
       "      <td>11199.968</td>\n",
       "      <td>1</td>\n",
       "    </tr>\n",
       "    <tr>\n",
       "      <th>5557</th>\n",
       "      <td>10499.970</td>\n",
       "      <td>1</td>\n",
       "    </tr>\n",
       "    <tr>\n",
       "      <th>...</th>\n",
       "      <td>...</td>\n",
       "      <td>...</td>\n",
       "    </tr>\n",
       "    <tr>\n",
       "      <th>4386</th>\n",
       "      <td>0.876</td>\n",
       "      <td>1</td>\n",
       "    </tr>\n",
       "    <tr>\n",
       "      <th>4809</th>\n",
       "      <td>0.852</td>\n",
       "      <td>1</td>\n",
       "    </tr>\n",
       "    <tr>\n",
       "      <th>2918</th>\n",
       "      <td>0.836</td>\n",
       "      <td>1</td>\n",
       "    </tr>\n",
       "    <tr>\n",
       "      <th>3181</th>\n",
       "      <td>0.556</td>\n",
       "      <td>1</td>\n",
       "    </tr>\n",
       "    <tr>\n",
       "      <th>5704</th>\n",
       "      <td>0.444</td>\n",
       "      <td>1</td>\n",
       "    </tr>\n",
       "  </tbody>\n",
       "</table>\n",
       "<p>5757 rows × 2 columns</p>\n",
       "</div>"
      ],
      "text/plain": [
       "          Sales  count\n",
       "4024  22638.480      1\n",
       "1963  17499.950      1\n",
       "3739  13999.960      1\n",
       "3980  11199.968      1\n",
       "5557  10499.970      1\n",
       "...         ...    ...\n",
       "4386      0.876      1\n",
       "4809      0.852      1\n",
       "2918      0.836      1\n",
       "3181      0.556      1\n",
       "5704      0.444      1\n",
       "\n",
       "[5757 rows x 2 columns]"
      ]
     },
     "execution_count": 48,
     "metadata": {},
     "output_type": "execute_result"
    }
   ],
   "source": [
    "df.Sales.value_counts().reset_index().sort_values(by='Sales' ,ascending=False)"
   ]
  },
  {
   "cell_type": "code",
   "execution_count": 49,
   "id": "9b698a45",
   "metadata": {
    "scrolled": true
   },
   "outputs": [
    {
     "data": {
      "text/html": [
       "<div>\n",
       "<style scoped>\n",
       "    .dataframe tbody tr th:only-of-type {\n",
       "        vertical-align: middle;\n",
       "    }\n",
       "\n",
       "    .dataframe tbody tr th {\n",
       "        vertical-align: top;\n",
       "    }\n",
       "\n",
       "    .dataframe thead th {\n",
       "        text-align: right;\n",
       "    }\n",
       "</style>\n",
       "<table border=\"1\" class=\"dataframe\">\n",
       "  <thead>\n",
       "    <tr style=\"text-align: right;\">\n",
       "      <th></th>\n",
       "      <th>Order Date</th>\n",
       "      <th>Ship Date</th>\n",
       "      <th>Postal Code</th>\n",
       "      <th>Sales</th>\n",
       "      <th>delivery time</th>\n",
       "    </tr>\n",
       "  </thead>\n",
       "  <tbody>\n",
       "    <tr>\n",
       "      <th>count</th>\n",
       "      <td>9799</td>\n",
       "      <td>9799</td>\n",
       "      <td>9799.000000</td>\n",
       "      <td>9799.000000</td>\n",
       "      <td>9799.000000</td>\n",
       "    </tr>\n",
       "    <tr>\n",
       "      <th>mean</th>\n",
       "      <td>2017-05-01 07:02:29.525461760</td>\n",
       "      <td>2017-05-05 06:06:30.162261504</td>\n",
       "      <td>55243.056536</td>\n",
       "      <td>230.763895</td>\n",
       "      <td>3.961118</td>\n",
       "    </tr>\n",
       "    <tr>\n",
       "      <th>min</th>\n",
       "      <td>2015-01-03 00:00:00</td>\n",
       "      <td>2015-01-07 00:00:00</td>\n",
       "      <td>1040.000000</td>\n",
       "      <td>0.444000</td>\n",
       "      <td>0.000000</td>\n",
       "    </tr>\n",
       "    <tr>\n",
       "      <th>25%</th>\n",
       "      <td>2016-05-24 12:00:00</td>\n",
       "      <td>2016-05-28 00:00:00</td>\n",
       "      <td>23223.000000</td>\n",
       "      <td>17.248000</td>\n",
       "      <td>3.000000</td>\n",
       "    </tr>\n",
       "    <tr>\n",
       "      <th>50%</th>\n",
       "      <td>2017-06-26 00:00:00</td>\n",
       "      <td>2017-06-29 00:00:00</td>\n",
       "      <td>57701.000000</td>\n",
       "      <td>54.480000</td>\n",
       "      <td>4.000000</td>\n",
       "    </tr>\n",
       "    <tr>\n",
       "      <th>75%</th>\n",
       "      <td>2018-05-15 00:00:00</td>\n",
       "      <td>2018-05-19 00:00:00</td>\n",
       "      <td>90008.000000</td>\n",
       "      <td>210.572000</td>\n",
       "      <td>5.000000</td>\n",
       "    </tr>\n",
       "    <tr>\n",
       "      <th>max</th>\n",
       "      <td>2018-12-30 00:00:00</td>\n",
       "      <td>2019-01-05 00:00:00</td>\n",
       "      <td>99301.000000</td>\n",
       "      <td>22638.480000</td>\n",
       "      <td>7.000000</td>\n",
       "    </tr>\n",
       "    <tr>\n",
       "      <th>std</th>\n",
       "      <td>NaN</td>\n",
       "      <td>NaN</td>\n",
       "      <td>32038.417479</td>\n",
       "      <td>626.683644</td>\n",
       "      <td>1.749703</td>\n",
       "    </tr>\n",
       "  </tbody>\n",
       "</table>\n",
       "</div>"
      ],
      "text/plain": [
       "                          Order Date                      Ship Date  \\\n",
       "count                           9799                           9799   \n",
       "mean   2017-05-01 07:02:29.525461760  2017-05-05 06:06:30.162261504   \n",
       "min              2015-01-03 00:00:00            2015-01-07 00:00:00   \n",
       "25%              2016-05-24 12:00:00            2016-05-28 00:00:00   \n",
       "50%              2017-06-26 00:00:00            2017-06-29 00:00:00   \n",
       "75%              2018-05-15 00:00:00            2018-05-19 00:00:00   \n",
       "max              2018-12-30 00:00:00            2019-01-05 00:00:00   \n",
       "std                              NaN                            NaN   \n",
       "\n",
       "        Postal Code         Sales  delivery time  \n",
       "count   9799.000000   9799.000000    9799.000000  \n",
       "mean   55243.056536    230.763895       3.961118  \n",
       "min     1040.000000      0.444000       0.000000  \n",
       "25%    23223.000000     17.248000       3.000000  \n",
       "50%    57701.000000     54.480000       4.000000  \n",
       "75%    90008.000000    210.572000       5.000000  \n",
       "max    99301.000000  22638.480000       7.000000  \n",
       "std    32038.417479    626.683644       1.749703  "
      ]
     },
     "execution_count": 49,
     "metadata": {},
     "output_type": "execute_result"
    }
   ],
   "source": [
    "df.describe() #Are there any outliers in the sales data?\n",
    "# from he above we can see that we have outliers"
   ]
  },
  {
   "cell_type": "markdown",
   "id": "4492c4a3",
   "metadata": {},
   "source": [
    "the sales data has ouliers \n",
    "\n",
    "It was observed tha most sales values is between 0.44400 which is less than 1 to 1200 sales amount, While not much sales are made above 1200\n",
    "\n",
    "we can say the sales was mostly distributed between 0 USD to 1200 USD"
   ]
  },
  {
   "cell_type": "code",
   "execution_count": 50,
   "id": "64a03131",
   "metadata": {},
   "outputs": [
    {
     "data": {
      "text/html": [
       "<div>\n",
       "<style scoped>\n",
       "    .dataframe tbody tr th:only-of-type {\n",
       "        vertical-align: middle;\n",
       "    }\n",
       "\n",
       "    .dataframe tbody tr th {\n",
       "        vertical-align: top;\n",
       "    }\n",
       "\n",
       "    .dataframe thead th {\n",
       "        text-align: right;\n",
       "    }\n",
       "</style>\n",
       "<table border=\"1\" class=\"dataframe\">\n",
       "  <thead>\n",
       "    <tr style=\"text-align: right;\">\n",
       "      <th></th>\n",
       "      <th>Category</th>\n",
       "      <th>Sales</th>\n",
       "    </tr>\n",
       "  </thead>\n",
       "  <tbody>\n",
       "    <tr>\n",
       "      <th>2</th>\n",
       "      <td>Technology</td>\n",
       "      <td>456.401474</td>\n",
       "    </tr>\n",
       "    <tr>\n",
       "      <th>0</th>\n",
       "      <td>Furniture</td>\n",
       "      <td>350.687147</td>\n",
       "    </tr>\n",
       "    <tr>\n",
       "      <th>1</th>\n",
       "      <td>Office Supplies</td>\n",
       "      <td>119.381001</td>\n",
       "    </tr>\n",
       "  </tbody>\n",
       "</table>\n",
       "</div>"
      ],
      "text/plain": [
       "          Category       Sales\n",
       "2       Technology  456.401474\n",
       "0        Furniture  350.687147\n",
       "1  Office Supplies  119.381001"
      ]
     },
     "execution_count": 50,
     "metadata": {},
     "output_type": "execute_result"
    }
   ],
   "source": [
    "df.groupby('Category')['Sales'].mean().reset_index().sort_values(by='Sales', ascending=False)"
   ]
  },
  {
   "cell_type": "code",
   "execution_count": 51,
   "id": "ae00fe4b",
   "metadata": {
    "scrolled": false
   },
   "outputs": [
    {
     "data": {
      "text/plain": [
       "<Axes: xlabel='Category', ylabel='Sales'>"
      ]
     },
     "execution_count": 51,
     "metadata": {},
     "output_type": "execute_result"
    },
    {
     "data": {
      "image/png": "[encoded data removed]",
      "text/plain": [
       "<Figure size 640x480 with 1 Axes>"
      ]
     },
     "metadata": {},
     "output_type": "display_data"
    }
   ],
   "source": [
    "sns.barplot(x='Category', y='Sales', data=df) #Can you visualize the distribution of sales for each product category?\n",
    "plt.title('')"
   ]
  },
  {
   "cell_type": "code",
   "execution_count": 58,
   "id": "7267b337",
   "metadata": {
    "scrolled": false
   },
   "outputs": [
    {
     "data": {
      "text/plain": [
       "(-0.1, 3000.0)"
      ]
     },
     "execution_count": 58,
     "metadata": {},
     "output_type": "execute_result"
    },
    {
     "data": {
      "image/png": "[encoded data removed]",
      "text/plain": [
       "<Figure size 640x480 with 1 Axes>"
      ]
     },
     "metadata": {},
     "output_type": "display_data"
    }
   ],
   "source": [
    "sns.violinplot(x='Category', y='Sales', data=df)\n",
    "plt.title('Overall distribution of sales values')\n",
    "plt.ylim(-0.1,3000)\n"
   ]
  },
  {
   "cell_type": "markdown",
   "id": "0e552e91",
   "metadata": {},
   "source": [
    "* We can see from the above tha the echnolog category generated the most revenue next to the Furniture, list to the office supplies which has the must higher order, next to the furniture"
   ]
  },
  {
   "cell_type": "code",
   "execution_count": 53,
   "id": "39d798c5",
   "metadata": {},
   "outputs": [
    {
     "data": {
      "text/plain": [
       "<Axes: xlabel='Category', ylabel='Sales'>"
      ]
     },
     "execution_count": 53,
     "metadata": {},
     "output_type": "execute_result"
    },
    {
     "data": {
      "image/png": "[encoded data removed]",
      "text/plain": [
       "<Figure size 640x480 with 1 Axes>"
      ]
     },
     "metadata": {},
     "output_type": "display_data"
    }
   ],
   "source": [
    "sns.boxplot(x=df['Category'], y=df['Sales'])"
   ]
  },
  {
   "cell_type": "markdown",
   "id": "7524d462",
   "metadata": {},
   "source": [
    "### Profit Analysis:\n",
    "\n",
    "● Calculate the total profit for each order.\n",
    "\n",
    "● What is the average profit margin?\n",
    "\n",
    "● Identify the top 5 orders with the highest profit.\n"
   ]
  },
  {
   "cell_type": "markdown",
   "id": "47ae4835",
   "metadata": {},
   "source": [
    "<b>Answer:</b>\n",
    "\n",
    "The dataset is incomplete for we to calculate the total profit for each order\n",
    "\n",
    "Already reached out to the stakeholder"
   ]
  },
  {
   "cell_type": "markdown",
   "id": "b3e424bd",
   "metadata": {},
   "source": [
    "#### Project Deliverables:\n",
    "\n",
    "● Summary of key findings"
   ]
  },
  {
   "cell_type": "markdown",
   "id": "e1bd951f",
   "metadata": {},
   "source": [
    "From the datase, the following insight were found\n",
    "\n",
    "1. The time frame of the dataset?  <b>Start date is:</b> 3rd January 2015  -- <b>End date is:</b>    30th December 2018\n",
    "2. The Dataset has 9800 rows  and 17 columns\n",
    "3. There was 11 empty rows from the postal code column, it was fixed by comparing the rows with similar city and country\n",
    "4. We found a duplicaed columns, row Id 3406 and 3407 were duplicate and row id 3407 was removed.\n",
    "5. Satistical description was done on the dataset and we noticed that from the sales column, we had a minimun sales value of 0.444000 and maximum of 22638.480000.\n",
    "6. We have about 4922 unique orders in the dataset, which means that some of the order had different products but the same orders.\n",
    "7. we have about 793 unique customers in the dataset, that is to say that most of the customers placed more than one order.\n",
    "8. United State is the only country included in the dataset.\n",
    "\n",
    "9. The distribution of orders across different regions are: Central: 2277, East: 2784, South: 1598, West: 3140\n",
    "10. The top 5 cities with the highest number of orders are: New York City: 891, Los Angeles: 728, Philadelphia: 532, San Francisco: 500, Seattle: 426.\n",
    "11. There are 3 unique product categories 'Furniture', 'Office Supplies', 'Technology'.\n",
    "12. the product categories on sales count are Office Supplies\t5909, Furniture\t2077, Technology\t1813, but the 'Office Supplies' is the most popular product category with the highest sale count.\n",
    "13. From he dataset, the top 5 selling products? are: Staple envelope\t47 sales, Staples\t46 sales, Easy-staple paper\t44sales,  Avery Non-Stick Binders\t20 sales, Staples in misc. colors\t18 sales, Staple remover\t18 sales.\n",
    "14. from the dataset, we can noticed that products that are been delivered in the same day has lesser delivery time than products that we delivered using the standard class shipping mode which took an average of 5 days to be delivered, while that of first class and second class shipping mode took an average of 2 and 3 days respectively to be delivered\n",
    "15. It was also noticed that the standard class shipping mode was used for most of the regions, just few was shipped on the same day and his happened for all the regions.\n",
    "16. The sales data has ouliers. \n",
    "\n",
    "    It was observed tha most sales values is between 0.44400 which is less than 1 to 1200 sales amount, While not much sales are made above 1200.\n",
    "\n",
    "    We can say the sales was mostly distributed between 0 USD to 1200 USD\n",
    "    \n",
    "17. The average sales amount distrubuion for the caegories are Technology\t456.401474, Furniture\t350.687147, Office Supplies\t119.381001"
   ]
  },
  {
   "cell_type": "markdown",
   "id": "a570b7c7",
   "metadata": {},
   "source": [
    "### Actionable recommendations based on the analysis"
   ]
  },
  {
   "cell_type": "markdown",
   "id": "575fac47",
   "metadata": {},
   "source": [
    "1. For customer satisfaction, we recommend that products should be delivered on the first day or using either the first or the second class shipping more which took 2 to 3 days instead of using the standard class shipping mode which too 5 days to be delivered, and it was used for all the regions which can lead to customer dissatisfaction. This will encourage the customer to order more products where the delivery time is optimal.\n",
    "\n",
    "2. For product production, products of the office supplies category are most popular and mostly ordered, that we noticed by checking for the top 5 selling products as that of the office supplies products were the highest, so considerations might be given on producing more of office Supplies, even though the sales amount is largely distributed among the Technology products maybe because the Technology products are more expensive.\n",
    "\n",
    "    So the price of the products should also be considered inorder to have much sales count for the different products."
   ]
  }
 ],
 "metadata": {
  "kernelspec": {
   "display_name": "Python 3 (ipykernel)",
   "language": "python",
   "name": "python3"
  },
  "language_info": {
   "codemirror_mode": {
    "name": "ipython",
    "version": 3
   },
   "file_extension": ".py",
   "mimetype": "text/x-python",
   "name": "python",
   "nbconvert_exporter": "python",
   "pygments_lexer": "ipython3",
   "version": "3.11.4"
  }
 },
 "nbformat": 4,
 "nbformat_minor": 5
}
